{
 "cells": [
  {
   "cell_type": "markdown",
   "metadata": {},
   "source": [
    "# Emotional contagion through social networks\n",
    "ref: https://www.pnas.org/content/111/24/8788"
   ]
  },
  {
   "cell_type": "code",
   "execution_count": 5,
   "metadata": {},
   "outputs": [
    {
     "data": {
      "text/html": [
       "<style>.container { width:100% !important; }</style>"
      ],
      "text/plain": [
       "<IPython.core.display.HTML object>"
      ]
     },
     "metadata": {},
     "output_type": "display_data"
    }
   ],
   "source": [
    "from IPython.core.display import display, HTML\n",
    "display(HTML(\"<style>.container { width:100% !important; }</style>\"))"
   ]
  },
  {
   "cell_type": "code",
   "execution_count": 6,
   "metadata": {},
   "outputs": [],
   "source": [
    "import findspark\n",
    "findspark.init('/Users/sdargude/Playground/Spark/spark-2.4.5-bin-hadoop2.7')"
   ]
  },
  {
   "cell_type": "code",
   "execution_count": 7,
   "metadata": {},
   "outputs": [],
   "source": [
    "from pyspark.sql import SparkSession\n",
    "from pyspark.sql.types import StructType\n",
    "from pyspark.sql.functions import explode\n",
    "from pyspark.sql.functions import split"
   ]
  },
  {
   "cell_type": "markdown",
   "metadata": {},
   "source": [
    "## Initialize Spark Session."
   ]
  },
  {
   "cell_type": "code",
   "execution_count": 8,
   "metadata": {},
   "outputs": [],
   "source": [
    "spark = SparkSession.builder.appName(\"Twitter_\").getOrCreate()"
   ]
  },
  {
   "cell_type": "code",
   "execution_count": 9,
   "metadata": {},
   "outputs": [
    {
     "data": {
      "text/html": [
       "\n",
       "            <div>\n",
       "                <p><b>SparkSession - hive</b></p>\n",
       "                \n",
       "        <div>\n",
       "            <p><b>SparkContext</b></p>\n",
       "\n",
       "            <p><a href=\"http://pulse-100590.hsd1.ca.comcast.net:4042\">Spark UI</a></p>\n",
       "\n",
       "            <dl>\n",
       "              <dt>Version</dt>\n",
       "                <dd><code>v2.4.5</code></dd>\n",
       "              <dt>Master</dt>\n",
       "                <dd><code>local[*]</code></dd>\n",
       "              <dt>AppName</dt>\n",
       "                <dd><code>PySparkShell</code></dd>\n",
       "            </dl>\n",
       "        </div>\n",
       "        \n",
       "            </div>\n",
       "        "
      ],
      "text/plain": [
       "<pyspark.sql.session.SparkSession at 0x11538d410>"
      ]
     },
     "execution_count": 9,
     "metadata": {},
     "output_type": "execute_result"
    }
   ],
   "source": [
    "spark"
   ]
  },
  {
   "cell_type": "markdown",
   "metadata": {},
   "source": [
    "## Load Delta Table."
   ]
  },
  {
   "cell_type": "code",
   "execution_count": 10,
   "metadata": {},
   "outputs": [
    {
     "name": "stdout",
     "output_type": "stream",
     "text": [
      "root\n",
      " |-- tweetid: long (nullable = true)\n",
      " |-- friendname: string (nullable = true)\n",
      " |-- profilename: string (nullable = true)\n",
      " |-- text: string (nullable = true)\n",
      " |-- date: string (nullable = true)\n",
      " |-- Sentiment: struct (nullable = true)\n",
      " |    |-- sentiment: integer (nullable = true)\n",
      " |    |-- psentiment: integer (nullable = true)\n",
      " |    |-- ngsentiment: integer (nullable = true)\n",
      " |    |-- nsentiment: integer (nullable = true)\n",
      " |    |-- nltk_sentiment: integer (nullable = true)\n",
      " |    |-- nltk_psentiment: integer (nullable = true)\n",
      " |    |-- nltk_ngsentiment: integer (nullable = true)\n",
      " |    |-- nltk_nsentiment: integer (nullable = true)\n",
      "\n",
      "root\n",
      " |-- tweetid: long (nullable = true)\n",
      " |-- friendname: string (nullable = true)\n",
      " |-- profilename: string (nullable = true)\n",
      " |-- text: string (nullable = true)\n",
      " |-- date: string (nullable = true)\n",
      " |-- Sentiment: struct (nullable = true)\n",
      " |    |-- sentiment: integer (nullable = true)\n",
      " |    |-- psentiment: integer (nullable = true)\n",
      " |    |-- ngsentiment: integer (nullable = true)\n",
      " |    |-- nsentiment: integer (nullable = true)\n",
      " |    |-- nltk_sentiment: integer (nullable = true)\n",
      " |    |-- nltk_psentiment: integer (nullable = true)\n",
      " |    |-- nltk_ngsentiment: integer (nullable = true)\n",
      " |    |-- nltk_nsentiment: integer (nullable = true)\n",
      " |-- DayofYear: date (nullable = true)\n",
      "\n"
     ]
    }
   ],
   "source": [
    "spark.sparkContext.setLogLevel(\"ERROR\")\n",
    "tweets = spark.read.format(\"delta\").load(\"deltatables/processed_new\")\n",
    "tweets.printSchema()\n",
    "tweets.createOrReplaceTempView(\"tweettable\")\n",
    "tweets = spark.sql(\"select *, to_date(date) as DayofYear from tweettable\")\n",
    "tweets.createOrReplaceTempView(\"tweettable\")\n",
    "tweets.printSchema()"
   ]
  },
  {
   "cell_type": "markdown",
   "metadata": {},
   "source": [
    "## Create  a in memory table/View with flatten Sentiment attributes."
   ]
  },
  {
   "cell_type": "code",
   "execution_count": 11,
   "metadata": {},
   "outputs": [
    {
     "name": "stdout",
     "output_type": "stream",
     "text": [
      "+-------------------+--------------+------------+--------------------+----------+--------------+-------------+-------------+------------+---------+--------+--------+-------+\n",
      "|            TweetId|    Friendname| ProfileName|                Text|      Date|Nltk_Sentiment|Nltk_Positive|Nltk_Negative|Nltk_Neutral|Sentiment|Positive|Negative|Neutral|\n",
      "+-------------------+--------------+------------+--------------------+----------+--------------+-------------+-------------+------------+---------+--------+--------+-------+\n",
      "|1281386382078828544|     Tamanna22|EnayetSpeaks|Etni izzat kyu de...|2020-07-10|             1|            0|            0|           1|        2|       1|       0|      0|\n",
      "|1281379357714333696|     urspessi1|EnayetSpeaks|      @vinodpdg Done|2020-07-10|             1|            0|            0|           1|        2|       1|       0|      0|\n",
      "|1281386838943387648|    khanumarfa|EnayetSpeaks|RT @rohini_sgh: D...|2020-07-10|             1|            0|            0|           1|        2|       1|       0|      0|\n",
      "|1281381967993245697|     urspessi1|EnayetSpeaks|  @swayinthewoods 😎|2020-07-10|             1|            0|            0|           1|        2|       1|       0|      0|\n",
      "|1281379865413906433|     urspessi1|EnayetSpeaks|RT @asmatasleem11...|2020-07-10|             2|            0|            0|           0|        1|       0|       0|      1|\n",
      "|1281382035223973888|      telegram|   AskAnshul|@Bmenzalji Unfort...|2020-07-10|             1|            0|            0|           1|        2|       1|       0|      0|\n",
      "|1281390801465966592|Captain_Mani72|   AskAnshul|@vivek_nathan1 @n...|2020-07-10|             1|            0|            0|           1|        2|       1|       0|      0|\n",
      "|1281384435737260032|     urspessi1|EnayetSpeaks|\"ᴬⁿᵈ ᴵᶠ ᵃˡˡ ᵗʰᵃᵗ ...|2020-07-10|             1|            0|            0|           1|        1|       0|       0|      1|\n",
      "|1281391258250784768|     urspessi1|EnayetSpeaks|#GoodMorningTwitt...|2020-07-10|             1|            0|            0|           1|        2|       1|       0|      0|\n",
      "|1281381391423295488|     urspessi1|EnayetSpeaks|@swayinthewoods H...|2020-07-10|             1|            0|            0|           1|        2|       1|       0|      0|\n",
      "|1281384886079610883|     urspessi1|EnayetSpeaks|@swayinthewoods Y...|2020-07-10|             1|            0|            0|           1|        1|       0|       0|      1|\n",
      "|1281391015828455424|         earth|   AskAnshul|Bolivia's Salar d...|2020-07-10|             1|            0|            0|           1|        1|       0|       0|      1|\n",
      "|1281382200643026945|      telegram|   AskAnshul|@KennyLa92709734 ...|2020-07-10|             1|            0|            0|           1|        2|       1|       0|      0|\n",
      "|1281378071489191943|    AartiTikoo|   AskAnshul|Many people who w...|2020-07-10|             1|            0|            0|           1|        0|       0|       1|      0|\n",
      "|1281378071489191943|    AartiTikoo|   AskAnshul|Many people who w...|2020-07-10|             1|            0|            0|           1|        0|       0|       1|      0|\n",
      "|1281390801465966592|Captain_Mani72|   AskAnshul|@vivek_nathan1 @n...|2020-07-10|             1|            0|            0|           1|        2|       1|       0|      0|\n",
      "|1281382200643026945|      telegram|   AskAnshul|@KennyLa92709734 ...|2020-07-10|             1|            0|            0|           1|        2|       1|       0|      0|\n",
      "|1281382035223973888|      telegram|   AskAnshul|@Bmenzalji Unfort...|2020-07-10|             1|            0|            0|           1|        2|       1|       0|      0|\n",
      "|1281382930443464704|     urspessi1|EnayetSpeaks|@swayinthewoods h...|2020-07-10|             1|            0|            0|           1|        2|       1|       0|      0|\n",
      "|1281390620410437637|Captain_Mani72|   AskAnshul|@TellDM Tushar Gi...|2020-07-10|             1|            0|            0|           1|        2|       1|       0|      0|\n",
      "+-------------------+--------------+------------+--------------------+----------+--------------+-------------+-------------+------------+---------+--------+--------+-------+\n",
      "only showing top 20 rows\n",
      "\n"
     ]
    }
   ],
   "source": [
    "SQL  =    \"select tweetid as TweetId, friendname as Friendname, \\\n",
    "           profilename as ProfileName, text as Text, DayofYear as Date, \\\n",
    "           Sentiment.nltk_sentiment as Nltk_Sentiment, \\\n",
    "           Sentiment.nltk_psentiment Nltk_Positive,\\\n",
    "           Sentiment.nltk_ngsentiment Nltk_Negative,\\\n",
    "           Sentiment.nltk_nsentiment Nltk_Neutral,\\\n",
    "           Sentiment.sentiment as Sentiment, \\\n",
    "           Sentiment.psentiment as Positive,\\\n",
    "           Sentiment.ngsentiment as Negative,\\\n",
    "           Sentiment.nsentiment as Neutral\\\n",
    "           from tweettable order by DayofYear desc\"\n",
    "\n",
    "df = spark.sql(SQL)\n",
    "df.show()\n",
    "df.createOrReplaceTempView(\"tweettable\")"
   ]
  },
  {
   "cell_type": "code",
   "execution_count": 12,
   "metadata": {},
   "outputs": [
    {
     "name": "stdout",
     "output_type": "stream",
     "text": [
      "root\n",
      " |-- TweetId: long (nullable = true)\n",
      " |-- Friendname: string (nullable = true)\n",
      " |-- ProfileName: string (nullable = true)\n",
      " |-- Text: string (nullable = true)\n",
      " |-- Date: date (nullable = true)\n",
      " |-- Nltk_Sentiment: integer (nullable = true)\n",
      " |-- Nltk_Positive: integer (nullable = true)\n",
      " |-- Nltk_Negative: integer (nullable = true)\n",
      " |-- Nltk_Neutral: integer (nullable = true)\n",
      " |-- Sentiment: integer (nullable = true)\n",
      " |-- Positive: integer (nullable = true)\n",
      " |-- Negative: integer (nullable = true)\n",
      " |-- Neutral: integer (nullable = true)\n",
      "\n"
     ]
    }
   ],
   "source": [
    "df.printSchema()"
   ]
  },
  {
   "cell_type": "markdown",
   "metadata": {},
   "source": [
    "## Create in memory view for tweets sent by 'Friends'."
   ]
  },
  {
   "cell_type": "code",
   "execution_count": 14,
   "metadata": {},
   "outputs": [
    {
     "name": "stdout",
     "output_type": "stream",
     "text": [
      "+----------+---------------+--------------+-----+-------------+-------------+------------+--------+--------+-------+------------------+------------------+\n",
      "|      Date|    ProfileName|    Friendname|Total|Nltk_Positive|Nltk_Negative|Nltk_Neutral|Positive|Negative|Neutral|          Sent_Avg|          Nltk_Avg|\n",
      "+----------+---------------+--------------+-----+-------------+-------------+------------+--------+--------+-------+------------------+------------------+\n",
      "|2020-07-10|      AskAnshul|         earth|    2|            0|            0|           2|       0|       0|      2|               1.0|               1.0|\n",
      "|2020-07-10|      AskAnshul|    AartiTikoo|    2|            0|            0|           2|       0|       2|      0|               0.0|               1.0|\n",
      "|2020-07-10|      AskAnshul|Captain_Mani72|    4|            0|            0|           4|       4|       0|      0|               2.0|               1.0|\n",
      "|2020-07-10|      AskAnshul|      telegram|    4|            0|            0|           4|       4|       0|      0|               2.0|               1.0|\n",
      "|2020-07-10|   EnayetSpeaks|   teamxecutor|    4|            0|            0|           4|       0|       2|      2|               0.5|               1.0|\n",
      "|2020-07-10|   EnayetSpeaks|     urspessi1|   16|            0|            0|          14|      10|       0|      6|             1.625|             1.125|\n",
      "|2020-07-10|   EnayetSpeaks|    khanumarfa|    8|            0|            0|           8|       4|       0|      4|               1.5|               1.0|\n",
      "|2020-07-10|   EnayetSpeaks|     Tamanna22|    6|            0|            0|           6|       4|       0|      2|1.6666666666666667|               1.0|\n",
      "|2020-07-10|realDonaldTrump|     TeamTrump|    1|            0|            0|           1|       0|       1|      0|               0.0|               1.0|\n",
      "|2020-07-10|realDonaldTrump|      parscale|    1|            0|            0|           1|       0|       1|      0|               0.0|               1.0|\n",
      "|2020-07-10|realDonaldTrump|    Mike_Pence|    4|            0|            0|           4|       0|       1|      3|              0.75|               1.0|\n",
      "|2020-07-10|realDonaldTrump| IngrahamAngle|    1|            0|            0|           1|       0|       1|      0|               0.0|               1.0|\n",
      "|2020-07-10|realDonaldTrump| TuckerCarlson|    1|            0|            0|           1|       1|       0|      0|               2.0|               1.0|\n",
      "|2020-07-10|realDonaldTrump|DiamondandSilk|    5|            0|            0|           5|       2|       1|      2|               1.2|               1.0|\n",
      "|2020-07-10|realDonaldTrump| GOPChairwoman|    1|            0|            0|           1|       0|       0|      1|               1.0|               1.0|\n",
      "|2020-07-10|realDonaldTrump|    WhiteHouse|    6|            0|            0|           5|       2|       2|      2|               1.0|1.1666666666666667|\n",
      "|2020-07-10|realDonaldTrump|            VP|    5|            0|            0|           3|       1|       1|      3|               1.0|               1.4|\n",
      "|2020-07-09|      AskAnshul|    TBPEnglish|    6|            0|            0|           6|       0|       4|      2|0.3333333333333333|               1.0|\n",
      "|2020-07-09|      AskAnshul| LocalchoiceIn|    4|            0|            0|           4|       2|       2|      0|               1.0|               1.0|\n",
      "|2020-07-09|      AskAnshul| TaiwanNews886|   48|            0|            0|          44|      16|      14|     18|1.0416666666666667|1.0833333333333333|\n",
      "+----------+---------------+--------------+-----+-------------+-------------+------------+--------+--------+-------+------------------+------------------+\n",
      "only showing top 20 rows\n",
      "\n"
     ]
    }
   ],
   "source": [
    "query = \"Select Date,\\\n",
    "         ProfileName,Friendname,count(TweetId) as Total,\\\n",
    "         Sum(Nltk_Positive) as Nltk_Positive,\\\n",
    "         Sum(Nltk_Negative) as Nltk_Negative,\\\n",
    "         Sum(Nltk_Neutral) as Nltk_Neutral,\\\n",
    "         Sum(Positive) as Positive,\\\n",
    "         Sum(Negative) as Negative,\\\n",
    "         Sum(Neutral) as Neutral,\\\n",
    "         Avg(Sentiment) as Sent_Avg,\\\n",
    "         Avg(Nltk_Sentiment) as Nltk_Avg\\\n",
    "         from tweettable \\\n",
    "         where Friendname != ProfileName \\\n",
    "         group by ProfileName, Date,Friendname\\\n",
    "         order by Date Desc,ProfileName\"\n",
    "left_df = spark.sql(query)\n",
    "left_df.show()\n",
    "left_df.createOrReplaceTempView(\"timeline\")"
   ]
  },
  {
   "cell_type": "markdown",
   "metadata": {},
   "source": [
    "## Create in memory view for tweet  sent by 'Profile'"
   ]
  },
  {
   "cell_type": "code",
   "execution_count": 15,
   "metadata": {},
   "outputs": [
    {
     "name": "stdout",
     "output_type": "stream",
     "text": [
      "+----------+---------------+---------------+-----+-------------+-------------+------------+--------+--------+-------+--------+--------+\n",
      "|      Date|    ProfileName|     Friendname|Total|Nltk_Positive|Nltk_Negative|Nltk_Neutral|Positive|Negative|Neutral|Sent_Avg|Nltk_Avg|\n",
      "+----------+---------------+---------------+-----+-------------+-------------+------------+--------+--------+-------+--------+--------+\n",
      "|2020-07-09|      AskAnshul|      AskAnshul|   10|            0|            0|          10|       2|       4|      4|     0.8|     1.0|\n",
      "|2020-07-09|   EnayetSpeaks|   EnayetSpeaks|   50|            0|            4|          46|      18|       2|     30|    1.32|    0.92|\n",
      "|2020-07-09|realDonaldTrump|realDonaldTrump|   20|            0|            0|          20|       7|       4|      9|    1.15|     1.0|\n",
      "|2020-07-08|      AskAnshul|      AskAnshul|    8|            0|            0|           8|       2|       2|      4|     1.0|     1.0|\n",
      "|2020-07-08|realDonaldTrump|realDonaldTrump|    5|            0|            0|           5|       1|       1|      3|     1.0|     1.0|\n",
      "|2020-07-07|      AskAnshul|      AskAnshul|    8|            0|            0|           6|       2|       2|      4|     1.0|    1.25|\n",
      "|2020-07-06|      AskAnshul|      AskAnshul|    8|            0|            0|           6|       2|       2|      4|     1.0|    1.25|\n",
      "|2020-07-05|      AskAnshul|      AskAnshul|    8|            0|            0|           8|       2|       4|      2|    0.75|     1.0|\n",
      "|2020-07-04|      AskAnshul|      AskAnshul|    8|            0|            0|           8|       6|       0|      2|    1.75|     1.0|\n",
      "+----------+---------------+---------------+-----+-------------+-------------+------------+--------+--------+-------+--------+--------+\n",
      "\n"
     ]
    }
   ],
   "source": [
    "query = \"Select Date,\\\n",
    "         ProfileName,Friendname,count(TweetId) as Total,\\\n",
    "         Sum(Nltk_Positive) as Nltk_Positive,\\\n",
    "         Sum(Nltk_Negative) as Nltk_Negative,\\\n",
    "         Sum(Nltk_Neutral) as Nltk_Neutral,\\\n",
    "         Sum(Positive) as Positive,\\\n",
    "         Sum(Negative) as Negative,\\\n",
    "         Sum(Neutral) as Neutral,\\\n",
    "         Avg(Sentiment) as Sent_Avg,\\\n",
    "         Avg(Nltk_Sentiment) as Nltk_Avg\\\n",
    "         from tweettable \\\n",
    "         where Friendname = ProfileName \\\n",
    "         group by ProfileName, Date,Friendname\\\n",
    "         order by Date Desc,ProfileName\"\n",
    "right_df = spark.sql(query)\n",
    "right_df.show()\n",
    "right_df.createOrReplaceTempView(\"profiletweet\")"
   ]
  },
  {
   "cell_type": "markdown",
   "metadata": {},
   "source": [
    "## Aggreage a in-memory view for tweets sent by 'Profile' group by Profilename"
   ]
  },
  {
   "cell_type": "code",
   "execution_count": 16,
   "metadata": {},
   "outputs": [
    {
     "name": "stdout",
     "output_type": "stream",
     "text": [
      "+----------+---------------+-----+-------------+-------------+------------+--------+--------+-------+--------+--------+\n",
      "|      Date|    ProfileName|Total|Nltk_Positive|Nltk_Negative|Nltk_Neutral|Positive|Negative|Neutral|Sent_Avg|Nltk_Avg|\n",
      "+----------+---------------+-----+-------------+-------------+------------+--------+--------+-------+--------+--------+\n",
      "|2020-07-09|      AskAnshul|   10|            0|            0|          10|       2|       4|      4|     0.8|     1.0|\n",
      "|2020-07-09|   EnayetSpeaks|   50|            0|            4|          46|      18|       2|     30|    1.32|    0.92|\n",
      "|2020-07-09|realDonaldTrump|   20|            0|            0|          20|       7|       4|      9|    1.15|     1.0|\n",
      "|2020-07-08|      AskAnshul|    8|            0|            0|           8|       2|       2|      4|     1.0|     1.0|\n",
      "|2020-07-08|realDonaldTrump|    5|            0|            0|           5|       1|       1|      3|     1.0|     1.0|\n",
      "|2020-07-07|      AskAnshul|    8|            0|            0|           6|       2|       2|      4|     1.0|    1.25|\n",
      "|2020-07-06|      AskAnshul|    8|            0|            0|           6|       2|       2|      4|     1.0|    1.25|\n",
      "|2020-07-05|      AskAnshul|    8|            0|            0|           8|       2|       4|      2|    0.75|     1.0|\n",
      "|2020-07-04|      AskAnshul|    8|            0|            0|           8|       6|       0|      2|    1.75|     1.0|\n",
      "+----------+---------------+-----+-------------+-------------+------------+--------+--------+-------+--------+--------+\n",
      "\n"
     ]
    }
   ],
   "source": [
    "query = \"Select Date, ProfileName, sum(Total) as Total, \\\n",
    "        sum(Nltk_Positive) as Nltk_Positive , sum(Nltk_Negative) as Nltk_Negative, \\\n",
    "        sum(Nltk_Neutral) as Nltk_Neutral, sum(Positive) as Positive , \\\n",
    "        sum(Negative) as Negative, sum(Neutral) as Neutral, \\\n",
    "        sum(Sent_Avg) as Sent_Avg, sum(Nltk_Avg) as Nltk_Avg\\\n",
    "        from profiletweet group by ProfileName,Date\"\n",
    "agg_profile_df = spark.sql(query)\n",
    "agg_profile_df.show()\n",
    "agg_profile_df.createOrReplaceTempView(\"aggprofile\")"
   ]
  },
  {
   "cell_type": "markdown",
   "metadata": {},
   "source": [
    "## Aggregate  in-memory view for tweets sent by 'Friends' group by Profilename"
   ]
  },
  {
   "cell_type": "code",
   "execution_count": 17,
   "metadata": {},
   "outputs": [
    {
     "name": "stdout",
     "output_type": "stream",
     "text": [
      "+----------+---------------+-----+----------+-------------+-------------+------------+--------+--------+-------+------------------+------------------+\n",
      "|      Date|    ProfileName|Total|Friendname|Nltk_Positive|Nltk_Negative|Nltk_Neutral|Positive|Negative|Neutral|          Sent_Avg|          Nltk_Avg|\n",
      "+----------+---------------+-----+----------+-------------+-------------+------------+--------+--------+-------+------------------+------------------+\n",
      "|2020-07-10|      AskAnshul|   12|         4|            0|            0|          12|       8|       2|      2|              1.25|               1.0|\n",
      "|2020-07-10|   EnayetSpeaks|   34|         4|            0|            0|          32|      18|       2|     14|1.3229166666666667|           1.03125|\n",
      "|2020-07-10|realDonaldTrump|   27|        11|            0|            0|          24|       6|       8|     13|0.8136363636363636|1.0515151515151517|\n",
      "|2020-07-09|      AskAnshul|  854|        40|            0|            6|         794|     272|     184|    398|1.1364458195911111|1.0456313466917013|\n",
      "|2020-07-09|   EnayetSpeaks| 1638|        47|            0|           22|        1598|     434|     220|    984|1.1380178939644578|1.0074403610573825|\n",
      "|2020-07-09|realDonaldTrump|  260|        29|            0|            3|         240|      76|      62|    122|1.1441334265653682|1.0359477717281709|\n",
      "|2020-07-08|      AskAnshul|  352|        35|            0|            0|         336|     112|      70|    170|1.1358884766027626| 1.027845804988662|\n",
      "|2020-07-08|   EnayetSpeaks|  294|        19|            0|            4|         266|      70|      46|    178| 1.189617838302049|1.0678812415654522|\n",
      "|2020-07-08|realDonaldTrump|  116|        24|            0|            2|         106|      29|      33|     54|0.9220786736411736|1.0742424242424242|\n",
      "|2020-07-07|      AskAnshul|  220|        27|            0|            0|         202|      66|      40|    114| 1.167577895355673|1.1015873015873014|\n",
      "|2020-07-07|   EnayetSpeaks|  120|        13|            0|            0|         114|      46|       4|     70|1.3142857142857143|1.1076923076923078|\n",
      "|2020-07-07|realDonaldTrump|   70|        25|            0|            1|          62|      27|      20|     23| 1.088888888888889| 1.059111111111111|\n",
      "|2020-07-06|      AskAnshul|  186|        20|            0|            0|         166|      58|      40|     88|1.1590025252525251|1.0808964646464645|\n",
      "|2020-07-06|   EnayetSpeaks|  110|         8|            0|            4|         106|      20|       0|     90|1.3104166666666668|            0.9375|\n",
      "|2020-07-06|realDonaldTrump|   37|        16|            0|            0|          31|      16|       8|     13|          1.328125|1.2447916666666667|\n",
      "|2020-07-05|      AskAnshul|  170|        19|            0|            0|         160|      56|      32|     82|1.1491228070175439|              1.05|\n",
      "|2020-07-05|   EnayetSpeaks|   60|         7|            0|            0|          58|      28|       6|     26|1.4219954648526076|1.0158730158730158|\n",
      "|2020-07-05|realDonaldTrump|   40|        14|            0|            1|          33|      18|       6|     16|1.2321428571428572|1.1238095238095238|\n",
      "|2020-07-04|      AskAnshul|  122|        16|            0|            2|         112|      32|      22|     68| 1.013020833333333|         1.0515625|\n",
      "|2020-07-04|   EnayetSpeaks|   24|         4|            0|            2|          22|      16|       2|      6|1.4583333333333333|0.9583333333333334|\n",
      "+----------+---------------+-----+----------+-------------+-------------+------------+--------+--------+-------+------------------+------------------+\n",
      "only showing top 20 rows\n",
      "\n"
     ]
    }
   ],
   "source": [
    "query = \"Select Date, ProfileName, sum(Total) as Total, count(Friendname) as Friendname, \\\n",
    "        sum(Nltk_Positive) as Nltk_Positive, sum(Nltk_Negative) as Nltk_Negative, \\\n",
    "        sum(Nltk_Neutral) as Nltk_Neutral, sum(Positive) as Positive, \\\n",
    "        sum(Negative) as Negative, sum(Neutral) as Neutral, \\\n",
    "        Avg(Sent_Avg) as Sent_Avg, Avg(Nltk_Avg) as Nltk_Avg \\\n",
    "        from timeline group by ProfileName,Date\"\n",
    "agg_timeline_df = spark.sql(query)\n",
    "agg_timeline_df.show()\n",
    "agg_timeline_df.createOrReplaceTempView(\"aggtimeline\")"
   ]
  },
  {
   "cell_type": "markdown",
   "metadata": {},
   "source": [
    "## Join Friend aggregation and Profile aggregations."
   ]
  },
  {
   "cell_type": "code",
   "execution_count": 19,
   "metadata": {},
   "outputs": [
    {
     "name": "stdout",
     "output_type": "stream",
     "text": [
      "+----------+---------------+-----+----------+-------------+-------------+------------+--------+--------+-------+------------------+------------------+-------+---------------+---------------+--------------+----------+----------+---------+----------+----------+\n",
      "|      Date|    ProfileName|Total|Friendname|Nltk_Positive|Nltk_Negative|Nltk_Neutral|Positive|Negative|Neutral|          Sent_Avg|          Nltk_Avg|P_Total|P_Nltk_Positive|P_Nltk_Negative|P_Nltk_Neutral|P_Positive|P_Negative|P_Neutral|P_Sent_Avg|P_Nltk_Avg|\n",
      "+----------+---------------+-----+----------+-------------+-------------+------------+--------+--------+-------+------------------+------------------+-------+---------------+---------------+--------------+----------+----------+---------+----------+----------+\n",
      "|2020-07-09|      AskAnshul|  854|        40|            0|            6|         794|     272|     184|    398|1.1364458195911111|1.0456313466917013|     10|              0|              0|            10|         2|         4|        4|       0.8|       1.0|\n",
      "|2020-07-09|   EnayetSpeaks| 1638|        47|            0|           22|        1598|     434|     220|    984|1.1380178939644578|1.0074403610573825|     50|              0|              4|            46|        18|         2|       30|      1.32|      0.92|\n",
      "|2020-07-09|realDonaldTrump|  260|        29|            0|            3|         240|      76|      62|    122|1.1441334265653682|1.0359477717281709|     20|              0|              0|            20|         7|         4|        9|      1.15|       1.0|\n",
      "|2020-07-08|      AskAnshul|  352|        35|            0|            0|         336|     112|      70|    170|1.1358884766027626| 1.027845804988662|      8|              0|              0|             8|         2|         2|        4|       1.0|       1.0|\n",
      "|2020-07-08|realDonaldTrump|  116|        24|            0|            2|         106|      29|      33|     54|0.9220786736411736|1.0742424242424242|      5|              0|              0|             5|         1|         1|        3|       1.0|       1.0|\n",
      "|2020-07-07|      AskAnshul|  220|        27|            0|            0|         202|      66|      40|    114| 1.167577895355673|1.1015873015873014|      8|              0|              0|             6|         2|         2|        4|       1.0|      1.25|\n",
      "|2020-07-06|      AskAnshul|  186|        20|            0|            0|         166|      58|      40|     88|1.1590025252525251|1.0808964646464645|      8|              0|              0|             6|         2|         2|        4|       1.0|      1.25|\n",
      "|2020-07-05|      AskAnshul|  170|        19|            0|            0|         160|      56|      32|     82|1.1491228070175439|              1.05|      8|              0|              0|             8|         2|         4|        2|      0.75|       1.0|\n",
      "|2020-07-04|      AskAnshul|  122|        16|            0|            2|         112|      32|      22|     68| 1.013020833333333|         1.0515625|      8|              0|              0|             8|         6|         0|        2|      1.75|       1.0|\n",
      "+----------+---------------+-----+----------+-------------+-------------+------------+--------+--------+-------+------------------+------------------+-------+---------------+---------------+--------------+----------+----------+---------+----------+----------+\n",
      "\n"
     ]
    }
   ],
   "source": [
    "query = \"Select t.*, p.Total as P_Total,\\\n",
    "         p.Nltk_Positive as P_Nltk_Positive,\\\n",
    "         p.Nltk_Negative as P_Nltk_Negative,\\\n",
    "         p.Nltk_Neutral as P_Nltk_Neutral,\\\n",
    "         p.Positive as P_Positive,\\\n",
    "         p.Negative as P_Negative,\\\n",
    "         p.Neutral as P_Neutral,\\\n",
    "         p.Sent_Avg as P_Sent_Avg,\\\n",
    "         p.Nltk_Avg as P_Nltk_Avg\\\n",
    "         from aggtimeline as t\\\n",
    "         inner join aggprofile as p\\\n",
    "         on t.Date = p.Date and t.ProfileName = p.ProfileName\"\n",
    "\n",
    "all_agg_df = spark.sql(query)\n",
    "all_agg_df.show()\n",
    "all_agg_df.createOrReplaceTempView(\"aggall\")"
   ]
  },
  {
   "cell_type": "markdown",
   "metadata": {},
   "source": [
    "# Check contingent Effect"
   ]
  },
  {
   "cell_type": "code",
   "execution_count": 20,
   "metadata": {},
   "outputs": [
    {
     "name": "stdout",
     "output_type": "stream",
     "text": [
      "+----------+---------------+-----+-------+------------------+----------+------------------+----------+\n",
      "|      Date|    ProfileName|Total|P_Total|          Sent_Avg|P_Sent_Avg|          Nltk_Avg|P_Nltk_Avg|\n",
      "+----------+---------------+-----+-------+------------------+----------+------------------+----------+\n",
      "|2020-07-07|      AskAnshul|  220|      8| 1.167577895355673|       1.0|1.1015873015873014|      1.25|\n",
      "|2020-07-09|      AskAnshul|  854|     10|1.1364458195911111|       0.8|1.0456313466917013|       1.0|\n",
      "|2020-07-08|      AskAnshul|  352|      8|1.1358884766027626|       1.0| 1.027845804988662|       1.0|\n",
      "|2020-07-06|      AskAnshul|  186|      8|1.1590025252525251|       1.0|1.0808964646464645|      1.25|\n",
      "|2020-07-05|      AskAnshul|  170|      8|1.1491228070175439|      0.75|              1.05|       1.0|\n",
      "|2020-07-04|      AskAnshul|  122|      8| 1.013020833333333|      1.75|         1.0515625|       1.0|\n",
      "|2020-07-09|   EnayetSpeaks| 1638|     50|1.1380178939644578|      1.32|1.0074403610573825|      0.92|\n",
      "|2020-07-08|realDonaldTrump|  116|      5|0.9220786736411736|       1.0|1.0742424242424242|       1.0|\n",
      "|2020-07-09|realDonaldTrump|  260|     20|1.1441334265653682|      1.15|1.0359477717281709|       1.0|\n",
      "+----------+---------------+-----+-------+------------------+----------+------------------+----------+\n",
      "\n"
     ]
    }
   ],
   "source": [
    "query = \"Select Date, ProfileName, Total,P_Total,\\\n",
    "         Sent_Avg,P_Sent_Avg,\\\n",
    "         Nltk_Avg,P_Nltk_Avg\\\n",
    "         from aggall order by ProfileName\"\n",
    "spark.sql(query).show()"
   ]
  },
  {
   "cell_type": "code",
   "execution_count": null,
   "metadata": {},
   "outputs": [],
   "source": []
  }
 ],
 "metadata": {
  "kernelspec": {
   "display_name": "springboard",
   "language": "python",
   "name": "springboard"
  },
  "language_info": {
   "codemirror_mode": {
    "name": "ipython",
    "version": 3
   },
   "file_extension": ".py",
   "mimetype": "text/x-python",
   "name": "python",
   "nbconvert_exporter": "python",
   "pygments_lexer": "ipython3",
   "version": "3.7.6"
  }
 },
 "nbformat": 4,
 "nbformat_minor": 4
}
