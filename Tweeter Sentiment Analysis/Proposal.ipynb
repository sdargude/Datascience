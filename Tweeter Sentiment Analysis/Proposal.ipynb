{
 "cells": [
  {
   "cell_type": "markdown",
   "metadata": {},
   "source": [
    "##  Emotional Contagion through user's tweeter timeline"
   ]
  },
  {
   "cell_type": "markdown",
   "metadata": {},
   "source": [
    "### Question"
   ]
  },
  {
   "cell_type": "markdown",
   "metadata": {},
   "source": [
    "How much does positive  or negative sentitments on users timeline impact user's next tweet.?"
   ]
  },
  {
   "cell_type": "markdown",
   "metadata": {},
   "source": [
    "### Method"
   ]
  },
  {
   "cell_type": "markdown",
   "metadata": {},
   "source": [
    "On massive social networking platform such as Tweeter, millions of users across the globe, exchange ideas by following one or more people.From the latest statistics from Twitter, around 82% of tweeter users follow less than 350 people. A twetter user's timeline consists of tweets or retweets  or likes from the people they follow. Often some the tweets are promoted by Tweeter based on user's behaviour."
   ]
  },
  {
   "cell_type": "markdown",
   "metadata": {},
   "source": [
    "In general, emotional states can be transferred to others via emotional contagion, leading people to experience the same emotions without their awareness. There are two main goals of the proposed system, firstly, detect the sentiments of the tweets on users timeline and give an overall sentiment score for the timeline. The second goal,is the predict the sentiement of the tweet which user may like or generate based on the overall sentitments of the timeline."
   ]
  },
  {
   "cell_type": "markdown",
   "metadata": {},
   "source": [
    "### Architecture:"
   ]
  },
  {
   "cell_type": "markdown",
   "metadata": {},
   "source": [
    "<img src='Tweeter-Architecture.png'>"
   ]
  },
  {
   "cell_type": "markdown",
   "metadata": {},
   "source": [
    "### Components"
   ]
  },
  {
   "cell_type": "markdown",
   "metadata": {},
   "source": [
    "<b> 1. Tweeter Consumer </b>: Twitter application to connect and download tweets. <br>\n",
    "<b> 2. Azure EventHub </b>:  A message bus for streaming the tweet.<br>\n",
    "<b> 3. Databricks </b>: Databrick's Spark infrastructure for processing raw tweet, cleaning the data and transforming to model prediction and training.<br>\n",
    "<b> 4. Trainined Model </b>: A custom trained model using LSTM.<br>\n",
    "<b> 5. Dashboard </b>: A flask based api for rendering dashboard.<br>"
   ]
  },
  {
   "cell_type": "markdown",
   "metadata": {},
   "source": [
    "<b> Data To Train the Model<b>:\n",
    "    "
   ]
  },
  {
   "cell_type": "markdown",
   "metadata": {},
   "source": [
    "There are multiple datasets available for sentiment analysis for tweeter data labeled with positive, negative and neutal sentiment.\n",
    "\n",
    "<b> 1. Sentiment140 </b> <br>\n",
    "<b> 2. Stanford University dataset</b>"
   ]
  },
  {
   "cell_type": "markdown",
   "metadata": {},
   "source": [
    "### Project Artifacts:"
   ]
  },
  {
   "cell_type": "markdown",
   "metadata": {},
   "source": [
    "1. Tweet Consumer in python. <br>\n",
    "2. Tweet Transformation code using Spark streaming. <br>\n",
    "3. LSTM based sentiment classifier model using TensorFlow. <br>\n",
    "4. Dashboard. <br>\n"
   ]
  },
  {
   "cell_type": "markdown",
   "metadata": {},
   "source": [
    "<img src='Dashboard.png'>"
   ]
  },
  {
   "cell_type": "code",
   "execution_count": null,
   "metadata": {},
   "outputs": [],
   "source": []
  }
 ],
 "metadata": {
  "kernelspec": {
   "display_name": "myenv",
   "language": "python",
   "name": "myenv"
  },
  "language_info": {
   "codemirror_mode": {
    "name": "ipython",
    "version": 3
   },
   "file_extension": ".py",
   "mimetype": "text/x-python",
   "name": "python",
   "nbconvert_exporter": "python",
   "pygments_lexer": "ipython3",
   "version": "3.7.3"
  }
 },
 "nbformat": 4,
 "nbformat_minor": 2
}
