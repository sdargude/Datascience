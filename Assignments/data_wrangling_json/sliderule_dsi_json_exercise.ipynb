{
 "cells": [
  {
   "cell_type": "markdown",
   "metadata": {},
   "source": [
    "# JSON examples and exercise\n",
    "****\n",
    "+ get familiar with packages for dealing with JSON\n",
    "+ study examples with JSON strings and files \n",
    "+ work on exercise to be completed and submitted \n",
    "****\n",
    "+ reference: http://pandas.pydata.org/pandas-docs/stable/io.html#io-json-reader\n",
    "****"
   ]
  },
  {
   "cell_type": "code",
   "execution_count": 1,
   "metadata": {},
   "outputs": [],
   "source": [
    "import pandas as pd"
   ]
  },
  {
   "cell_type": "markdown",
   "metadata": {},
   "source": [
    "## imports for Python, Pandas"
   ]
  },
  {
   "cell_type": "code",
   "execution_count": 2,
   "metadata": {},
   "outputs": [],
   "source": [
    "import json\n",
    "from pandas.io.json import json_normalize"
   ]
  },
  {
   "cell_type": "markdown",
   "metadata": {},
   "source": [
    "## JSON example, with string\n",
    "\n",
    "+ demonstrates creation of normalized dataframes (tables) from nested json string\n",
    "+ source: http://pandas.pydata.org/pandas-docs/stable/io.html#normalization"
   ]
  },
  {
   "cell_type": "code",
   "execution_count": 3,
   "metadata": {},
   "outputs": [],
   "source": [
    "# define json string\n",
    "data = [{'state': 'Florida', \n",
    "         'shortname': 'FL',\n",
    "         'info': {'governor': 'Rick Scott'},\n",
    "         'counties': [{'name': 'Dade', 'population': 12345},\n",
    "                      {'name': 'Broward', 'population': 40000},\n",
    "                      {'name': 'Palm Beach', 'population': 60000}]},\n",
    "        {'state': 'Ohio',\n",
    "         'shortname': 'OH',\n",
    "         'info': {'governor': 'John Kasich'},\n",
    "         'counties': [{'name': 'Summit', 'population': 1234},\n",
    "                      {'name': 'Cuyahoga', 'population': 1337}]}]"
   ]
  },
  {
   "cell_type": "code",
   "execution_count": 4,
   "metadata": {},
   "outputs": [
    {
     "data": {
      "text/html": [
       "<div>\n",
       "<style scoped>\n",
       "    .dataframe tbody tr th:only-of-type {\n",
       "        vertical-align: middle;\n",
       "    }\n",
       "\n",
       "    .dataframe tbody tr th {\n",
       "        vertical-align: top;\n",
       "    }\n",
       "\n",
       "    .dataframe thead th {\n",
       "        text-align: right;\n",
       "    }\n",
       "</style>\n",
       "<table border=\"1\" class=\"dataframe\">\n",
       "  <thead>\n",
       "    <tr style=\"text-align: right;\">\n",
       "      <th></th>\n",
       "      <th>name</th>\n",
       "      <th>population</th>\n",
       "    </tr>\n",
       "  </thead>\n",
       "  <tbody>\n",
       "    <tr>\n",
       "      <th>0</th>\n",
       "      <td>Dade</td>\n",
       "      <td>12345</td>\n",
       "    </tr>\n",
       "    <tr>\n",
       "      <th>1</th>\n",
       "      <td>Broward</td>\n",
       "      <td>40000</td>\n",
       "    </tr>\n",
       "    <tr>\n",
       "      <th>2</th>\n",
       "      <td>Palm Beach</td>\n",
       "      <td>60000</td>\n",
       "    </tr>\n",
       "    <tr>\n",
       "      <th>3</th>\n",
       "      <td>Summit</td>\n",
       "      <td>1234</td>\n",
       "    </tr>\n",
       "    <tr>\n",
       "      <th>4</th>\n",
       "      <td>Cuyahoga</td>\n",
       "      <td>1337</td>\n",
       "    </tr>\n",
       "  </tbody>\n",
       "</table>\n",
       "</div>"
      ],
      "text/plain": [
       "         name  population\n",
       "0        Dade       12345\n",
       "1     Broward       40000\n",
       "2  Palm Beach       60000\n",
       "3      Summit        1234\n",
       "4    Cuyahoga        1337"
      ]
     },
     "execution_count": 4,
     "metadata": {},
     "output_type": "execute_result"
    }
   ],
   "source": [
    "# use normalization to create tables from nested element\n",
    "json_normalize(data, 'counties')"
   ]
  },
  {
   "cell_type": "code",
   "execution_count": 5,
   "metadata": {},
   "outputs": [
    {
     "data": {
      "text/html": [
       "<div>\n",
       "<style scoped>\n",
       "    .dataframe tbody tr th:only-of-type {\n",
       "        vertical-align: middle;\n",
       "    }\n",
       "\n",
       "    .dataframe tbody tr th {\n",
       "        vertical-align: top;\n",
       "    }\n",
       "\n",
       "    .dataframe thead th {\n",
       "        text-align: right;\n",
       "    }\n",
       "</style>\n",
       "<table border=\"1\" class=\"dataframe\">\n",
       "  <thead>\n",
       "    <tr style=\"text-align: right;\">\n",
       "      <th></th>\n",
       "      <th>name</th>\n",
       "      <th>population</th>\n",
       "      <th>state</th>\n",
       "      <th>shortname</th>\n",
       "      <th>info.governor</th>\n",
       "    </tr>\n",
       "  </thead>\n",
       "  <tbody>\n",
       "    <tr>\n",
       "      <th>0</th>\n",
       "      <td>Dade</td>\n",
       "      <td>12345</td>\n",
       "      <td>Florida</td>\n",
       "      <td>FL</td>\n",
       "      <td>Rick Scott</td>\n",
       "    </tr>\n",
       "    <tr>\n",
       "      <th>1</th>\n",
       "      <td>Broward</td>\n",
       "      <td>40000</td>\n",
       "      <td>Florida</td>\n",
       "      <td>FL</td>\n",
       "      <td>Rick Scott</td>\n",
       "    </tr>\n",
       "    <tr>\n",
       "      <th>2</th>\n",
       "      <td>Palm Beach</td>\n",
       "      <td>60000</td>\n",
       "      <td>Florida</td>\n",
       "      <td>FL</td>\n",
       "      <td>Rick Scott</td>\n",
       "    </tr>\n",
       "    <tr>\n",
       "      <th>3</th>\n",
       "      <td>Summit</td>\n",
       "      <td>1234</td>\n",
       "      <td>Ohio</td>\n",
       "      <td>OH</td>\n",
       "      <td>John Kasich</td>\n",
       "    </tr>\n",
       "    <tr>\n",
       "      <th>4</th>\n",
       "      <td>Cuyahoga</td>\n",
       "      <td>1337</td>\n",
       "      <td>Ohio</td>\n",
       "      <td>OH</td>\n",
       "      <td>John Kasich</td>\n",
       "    </tr>\n",
       "  </tbody>\n",
       "</table>\n",
       "</div>"
      ],
      "text/plain": [
       "         name  population    state shortname info.governor\n",
       "0        Dade       12345  Florida        FL    Rick Scott\n",
       "1     Broward       40000  Florida        FL    Rick Scott\n",
       "2  Palm Beach       60000  Florida        FL    Rick Scott\n",
       "3      Summit        1234     Ohio        OH   John Kasich\n",
       "4    Cuyahoga        1337     Ohio        OH   John Kasich"
      ]
     },
     "execution_count": 5,
     "metadata": {},
     "output_type": "execute_result"
    }
   ],
   "source": [
    "# further populate tables created from nested element\n",
    "json_normalize(data, 'counties', ['state', 'shortname', ['info', 'governor']])"
   ]
  },
  {
   "cell_type": "markdown",
   "metadata": {},
   "source": [
    "****\n",
    "## JSON example, with file\n",
    "\n",
    "+ demonstrates reading in a json file as a string and as a table\n",
    "+ uses small sample file containing data about projects funded by the World Bank "
   ]
  },
  {
   "cell_type": "code",
   "execution_count": 6,
   "metadata": {},
   "outputs": [
    {
     "data": {
      "text/plain": [
       "[{'_id': {'$oid': '52b213b38594d8a2be17c780'},\n",
       "  'approvalfy': 1999,\n",
       "  'board_approval_month': 'November',\n",
       "  'boardapprovaldate': '2013-11-12T00:00:00Z',\n",
       "  'borrower': 'FEDERAL DEMOCRATIC REPUBLIC OF ETHIOPIA',\n",
       "  'closingdate': '2018-07-07T00:00:00Z',\n",
       "  'country_namecode': 'Federal Democratic Republic of Ethiopia!$!ET',\n",
       "  'countrycode': 'ET',\n",
       "  'countryname': 'Federal Democratic Republic of Ethiopia',\n",
       "  'countryshortname': 'Ethiopia',\n",
       "  'docty': 'Project Information Document,Indigenous Peoples Plan,Project Information Document',\n",
       "  'envassesmentcategorycode': 'C',\n",
       "  'grantamt': 0,\n",
       "  'ibrdcommamt': 0,\n",
       "  'id': 'P129828',\n",
       "  'idacommamt': 130000000,\n",
       "  'impagency': 'MINISTRY OF EDUCATION',\n",
       "  'lendinginstr': 'Investment Project Financing',\n",
       "  'lendinginstrtype': 'IN',\n",
       "  'lendprojectcost': 550000000,\n",
       "  'majorsector_percent': [{'Name': 'Education', 'Percent': 46},\n",
       "   {'Name': 'Education', 'Percent': 26},\n",
       "   {'Name': 'Public Administration, Law, and Justice', 'Percent': 16},\n",
       "   {'Name': 'Education', 'Percent': 12}],\n",
       "  'mjsector_namecode': [{'name': 'Education', 'code': 'EX'},\n",
       "   {'name': 'Education', 'code': 'EX'},\n",
       "   {'name': 'Public Administration, Law, and Justice', 'code': 'BX'},\n",
       "   {'name': 'Education', 'code': 'EX'}],\n",
       "  'mjtheme': ['Human development'],\n",
       "  'mjtheme_namecode': [{'name': 'Human development', 'code': '8'},\n",
       "   {'name': '', 'code': '11'}],\n",
       "  'mjthemecode': '8,11',\n",
       "  'prodline': 'PE',\n",
       "  'prodlinetext': 'IBRD/IDA',\n",
       "  'productlinetype': 'L',\n",
       "  'project_abstract': {'cdata': 'The development objective of the Second Phase of General Education Quality Improvement Project for Ethiopia is to improve learning conditions in primary and secondary schools and strengthen institutions at different levels of educational administration. The project has six components. The first component is curriculum, textbooks, assessment, examinations, and inspection. This component will support improvement of learning conditions in grades KG-12 by providing increased access to teaching and learning materials and through improvements to the curriculum by assessing the strengths and weaknesses of the current curriculum. This component has following four sub-components: (i) curriculum reform and implementation; (ii) teaching and learning materials; (iii) assessment and examinations; and (iv) inspection. The second component is teacher development program (TDP). This component will support improvements in learning conditions in both primary and secondary schools by advancing the quality of teaching in general education through: (a) enhancing the training of pre-service teachers in teacher education institutions; and (b) improving the quality of in-service teacher training. This component has following three sub-components: (i) pre-service teacher training; (ii) in-service teacher training; and (iii) licensing and relicensing of teachers and school leaders. The third component is school improvement plan. This component will support the strengthening of school planning in order to improve learning outcomes, and to partly fund the school improvement plans through school grants. It has following two sub-components: (i) school improvement plan; and (ii) school grants. The fourth component is management and capacity building, including education management information systems (EMIS). This component will support management and capacity building aspect of the project. This component has following three sub-components: (i) capacity building for education planning and management; (ii) capacity building for school planning and management; and (iii) EMIS. The fifth component is improving the quality of learning and teaching in secondary schools and universities through the use of information and communications technology (ICT). It has following five sub-components: (i) national policy and institution for ICT in general education; (ii) national ICT infrastructure improvement plan for general education; (iii) develop an integrated monitoring, evaluation, and learning system specifically for the ICT component; (iv) teacher professional development in the use of ICT; and (v) provision of limited number of e-Braille display readers with the possibility to scale up to all secondary education schools based on the successful implementation and usage of the readers. The sixth component is program coordination, monitoring and evaluation, and communication. It will support institutional strengthening by developing capacities in all aspects of program coordination, monitoring and evaluation; a new sub-component on communications will support information sharing for better management and accountability. It has following three sub-components: (i) program coordination; (ii) monitoring and evaluation (M and E); and (iii) communication.'},\n",
       "  'project_name': 'Ethiopia General Education Quality Improvement Project II',\n",
       "  'projectdocs': [{'DocTypeDesc': 'Project Information Document (PID),  Vol.',\n",
       "    'DocType': 'PID',\n",
       "    'EntityID': '090224b081e545fb_1_0',\n",
       "    'DocURL': 'http://www-wds.worldbank.org/servlet/WDSServlet?pcont=details&eid=090224b081e545fb_1_0',\n",
       "    'DocDate': '28-AUG-2013'},\n",
       "   {'DocTypeDesc': 'Indigenous Peoples Plan (IP),  Vol.1 of 1',\n",
       "    'DocType': 'IP',\n",
       "    'EntityID': '000442464_20130920111729',\n",
       "    'DocURL': 'http://www-wds.worldbank.org/servlet/WDSServlet?pcont=details&eid=000442464_20130920111729',\n",
       "    'DocDate': '01-JUL-2013'},\n",
       "   {'DocTypeDesc': 'Project Information Document (PID),  Vol.',\n",
       "    'DocType': 'PID',\n",
       "    'EntityID': '090224b0817b19e2_1_0',\n",
       "    'DocURL': 'http://www-wds.worldbank.org/servlet/WDSServlet?pcont=details&eid=090224b0817b19e2_1_0',\n",
       "    'DocDate': '22-NOV-2012'}],\n",
       "  'projectfinancialtype': 'IDA',\n",
       "  'projectstatusdisplay': 'Active',\n",
       "  'regionname': 'Africa',\n",
       "  'sector': [{'Name': 'Primary education'},\n",
       "   {'Name': 'Secondary education'},\n",
       "   {'Name': 'Public administration- Other social services'},\n",
       "   {'Name': 'Tertiary education'}],\n",
       "  'sector1': {'Name': 'Primary education', 'Percent': 46},\n",
       "  'sector2': {'Name': 'Secondary education', 'Percent': 26},\n",
       "  'sector3': {'Name': 'Public administration- Other social services',\n",
       "   'Percent': 16},\n",
       "  'sector4': {'Name': 'Tertiary education', 'Percent': 12},\n",
       "  'sector_namecode': [{'name': 'Primary education', 'code': 'EP'},\n",
       "   {'name': 'Secondary education', 'code': 'ES'},\n",
       "   {'name': 'Public administration- Other social services', 'code': 'BS'},\n",
       "   {'name': 'Tertiary education', 'code': 'ET'}],\n",
       "  'sectorcode': 'ET,BS,ES,EP',\n",
       "  'source': 'IBRD',\n",
       "  'status': 'Active',\n",
       "  'supplementprojectflg': 'N',\n",
       "  'theme1': {'Name': 'Education for all', 'Percent': 100},\n",
       "  'theme_namecode': [{'name': 'Education for all', 'code': '65'}],\n",
       "  'themecode': '65',\n",
       "  'totalamt': 130000000,\n",
       "  'totalcommamt': 130000000,\n",
       "  'url': 'http://www.worldbank.org/projects/P129828/ethiopia-general-education-quality-improvement-project-ii?lang=en'},\n",
       " {'_id': {'$oid': '52b213b38594d8a2be17c781'},\n",
       "  'approvalfy': 2015,\n",
       "  'board_approval_month': 'November',\n",
       "  'boardapprovaldate': '2013-11-04T00:00:00Z',\n",
       "  'borrower': 'GOVERNMENT OF TUNISIA',\n",
       "  'country_namecode': 'Republic of Tunisia!$!TN',\n",
       "  'countrycode': 'TN',\n",
       "  'countryname': 'Republic of Tunisia',\n",
       "  'countryshortname': 'Tunisia',\n",
       "  'docty': 'Project Information Document,Integrated Safeguards Data Sheet,Integrated Safeguards Data Sheet,Project Information Document,Integrated Safeguards Data Sheet,Project Information Document',\n",
       "  'envassesmentcategorycode': 'C',\n",
       "  'grantamt': 4700000,\n",
       "  'ibrdcommamt': 0,\n",
       "  'id': 'P144674',\n",
       "  'idacommamt': 0,\n",
       "  'impagency': 'MINISTRY OF FINANCE',\n",
       "  'lendinginstr': 'Specific Investment Loan',\n",
       "  'lendinginstrtype': 'IN',\n",
       "  'lendprojectcost': 5700000,\n",
       "  'majorsector_percent': [{'Name': 'Public Administration, Law, and Justice',\n",
       "    'Percent': 70},\n",
       "   {'Name': 'Public Administration, Law, and Justice', 'Percent': 30}],\n",
       "  'mjsector_namecode': [{'name': 'Public Administration, Law, and Justice',\n",
       "    'code': 'BX'},\n",
       "   {'name': 'Public Administration, Law, and Justice', 'code': 'BX'}],\n",
       "  'mjtheme': ['Economic management', 'Social protection and risk management'],\n",
       "  'mjtheme_namecode': [{'name': 'Economic management', 'code': '1'},\n",
       "   {'name': 'Social protection and risk management', 'code': '6'}],\n",
       "  'mjthemecode': '1,6',\n",
       "  'prodline': 'RE',\n",
       "  'prodlinetext': 'Recipient Executed Activities',\n",
       "  'productlinetype': 'L',\n",
       "  'project_name': 'TN: DTF Social Protection Reforms Support',\n",
       "  'projectdocs': [{'DocTypeDesc': 'Project Information Document (PID),  Vol.1 of 1',\n",
       "    'DocType': 'PID',\n",
       "    'EntityID': '000333037_20131024115616',\n",
       "    'DocURL': 'http://www-wds.worldbank.org/servlet/WDSServlet?pcont=details&eid=000333037_20131024115616',\n",
       "    'DocDate': '29-MAR-2013'},\n",
       "   {'DocTypeDesc': 'Integrated Safeguards Data Sheet (ISDS),  Vol.1 of 1',\n",
       "    'DocType': 'ISDS',\n",
       "    'EntityID': '000356161_20131024151611',\n",
       "    'DocURL': 'http://www-wds.worldbank.org/servlet/WDSServlet?pcont=details&eid=000356161_20131024151611',\n",
       "    'DocDate': '29-MAR-2013'},\n",
       "   {'DocTypeDesc': 'Integrated Safeguards Data Sheet (ISDS),  Vol.1 of 1',\n",
       "    'DocType': 'ISDS',\n",
       "    'EntityID': '000442464_20131031112136',\n",
       "    'DocURL': 'http://www-wds.worldbank.org/servlet/WDSServlet?pcont=details&eid=000442464_20131031112136',\n",
       "    'DocDate': '29-MAR-2013'},\n",
       "   {'DocTypeDesc': 'Project Information Document (PID),  Vol.1 of 1',\n",
       "    'DocType': 'PID',\n",
       "    'EntityID': '000333037_20131031105716',\n",
       "    'DocURL': 'http://www-wds.worldbank.org/servlet/WDSServlet?pcont=details&eid=000333037_20131031105716',\n",
       "    'DocDate': '29-MAR-2013'},\n",
       "   {'DocTypeDesc': 'Integrated Safeguards Data Sheet (ISDS),  Vol.1 of 1',\n",
       "    'DocType': 'ISDS',\n",
       "    'EntityID': '000356161_20130305113209',\n",
       "    'DocURL': 'http://www-wds.worldbank.org/servlet/WDSServlet?pcont=details&eid=000356161_20130305113209',\n",
       "    'DocDate': '16-JAN-2013'},\n",
       "   {'DocTypeDesc': 'Project Information Document (PID),  Vol.1 of 1',\n",
       "    'DocType': 'PID',\n",
       "    'EntityID': '000356161_20130305113716',\n",
       "    'DocURL': 'http://www-wds.worldbank.org/servlet/WDSServlet?pcont=details&eid=000356161_20130305113716',\n",
       "    'DocDate': '16-JAN-2013'}],\n",
       "  'projectfinancialtype': 'OTHER',\n",
       "  'projectstatusdisplay': 'Active',\n",
       "  'regionname': 'Middle East and North Africa',\n",
       "  'sector': [{'Name': 'Public administration- Other social services'},\n",
       "   {'Name': 'General public administration sector'}],\n",
       "  'sector1': {'Name': 'Public administration- Other social services',\n",
       "   'Percent': 70},\n",
       "  'sector2': {'Name': 'General public administration sector', 'Percent': 30},\n",
       "  'sector_namecode': [{'name': 'Public administration- Other social services',\n",
       "    'code': 'BS'},\n",
       "   {'name': 'General public administration sector', 'code': 'BZ'}],\n",
       "  'sectorcode': 'BZ,BS',\n",
       "  'source': 'IBRD',\n",
       "  'status': 'Active',\n",
       "  'supplementprojectflg': 'N',\n",
       "  'theme1': {'Name': 'Other economic management', 'Percent': 30},\n",
       "  'theme_namecode': [{'name': 'Other economic management', 'code': '24'},\n",
       "   {'name': 'Social safety nets', 'code': '54'}],\n",
       "  'themecode': '54,24',\n",
       "  'totalamt': 0,\n",
       "  'totalcommamt': 4700000,\n",
       "  'url': 'http://www.worldbank.org/projects/P144674?lang=en'}]"
      ]
     },
     "execution_count": 6,
     "metadata": {},
     "output_type": "execute_result"
    }
   ],
   "source": [
    "# load json as string\n",
    "json.load((open('data/world_bank_projects_less.json')))"
   ]
  },
  {
   "cell_type": "code",
   "execution_count": 7,
   "metadata": {},
   "outputs": [
    {
     "data": {
      "text/html": [
       "<div>\n",
       "<style scoped>\n",
       "    .dataframe tbody tr th:only-of-type {\n",
       "        vertical-align: middle;\n",
       "    }\n",
       "\n",
       "    .dataframe tbody tr th {\n",
       "        vertical-align: top;\n",
       "    }\n",
       "\n",
       "    .dataframe thead th {\n",
       "        text-align: right;\n",
       "    }\n",
       "</style>\n",
       "<table border=\"1\" class=\"dataframe\">\n",
       "  <thead>\n",
       "    <tr style=\"text-align: right;\">\n",
       "      <th></th>\n",
       "      <th>_id</th>\n",
       "      <th>approvalfy</th>\n",
       "      <th>board_approval_month</th>\n",
       "      <th>boardapprovaldate</th>\n",
       "      <th>borrower</th>\n",
       "      <th>closingdate</th>\n",
       "      <th>country_namecode</th>\n",
       "      <th>countrycode</th>\n",
       "      <th>countryname</th>\n",
       "      <th>countryshortname</th>\n",
       "      <th>...</th>\n",
       "      <th>sectorcode</th>\n",
       "      <th>source</th>\n",
       "      <th>status</th>\n",
       "      <th>supplementprojectflg</th>\n",
       "      <th>theme1</th>\n",
       "      <th>theme_namecode</th>\n",
       "      <th>themecode</th>\n",
       "      <th>totalamt</th>\n",
       "      <th>totalcommamt</th>\n",
       "      <th>url</th>\n",
       "    </tr>\n",
       "  </thead>\n",
       "  <tbody>\n",
       "    <tr>\n",
       "      <th>0</th>\n",
       "      <td>{'$oid': '52b213b38594d8a2be17c780'}</td>\n",
       "      <td>1999</td>\n",
       "      <td>November</td>\n",
       "      <td>2013-11-12T00:00:00Z</td>\n",
       "      <td>FEDERAL DEMOCRATIC REPUBLIC OF ETHIOPIA</td>\n",
       "      <td>2018-07-07T00:00:00Z</td>\n",
       "      <td>Federal Democratic Republic of Ethiopia!$!ET</td>\n",
       "      <td>ET</td>\n",
       "      <td>Federal Democratic Republic of Ethiopia</td>\n",
       "      <td>Ethiopia</td>\n",
       "      <td>...</td>\n",
       "      <td>ET,BS,ES,EP</td>\n",
       "      <td>IBRD</td>\n",
       "      <td>Active</td>\n",
       "      <td>N</td>\n",
       "      <td>{'Name': 'Education for all', 'Percent': 100}</td>\n",
       "      <td>[{'name': 'Education for all', 'code': '65'}]</td>\n",
       "      <td>65</td>\n",
       "      <td>130000000</td>\n",
       "      <td>130000000</td>\n",
       "      <td>http://www.worldbank.org/projects/P129828/ethi...</td>\n",
       "    </tr>\n",
       "    <tr>\n",
       "      <th>1</th>\n",
       "      <td>{'$oid': '52b213b38594d8a2be17c781'}</td>\n",
       "      <td>2015</td>\n",
       "      <td>November</td>\n",
       "      <td>2013-11-04T00:00:00Z</td>\n",
       "      <td>GOVERNMENT OF TUNISIA</td>\n",
       "      <td>NaN</td>\n",
       "      <td>Republic of Tunisia!$!TN</td>\n",
       "      <td>TN</td>\n",
       "      <td>Republic of Tunisia</td>\n",
       "      <td>Tunisia</td>\n",
       "      <td>...</td>\n",
       "      <td>BZ,BS</td>\n",
       "      <td>IBRD</td>\n",
       "      <td>Active</td>\n",
       "      <td>N</td>\n",
       "      <td>{'Name': 'Other economic management', 'Percent...</td>\n",
       "      <td>[{'name': 'Other economic management', 'code':...</td>\n",
       "      <td>54,24</td>\n",
       "      <td>0</td>\n",
       "      <td>4700000</td>\n",
       "      <td>http://www.worldbank.org/projects/P144674?lang=en</td>\n",
       "    </tr>\n",
       "  </tbody>\n",
       "</table>\n",
       "<p>2 rows × 50 columns</p>\n",
       "</div>"
      ],
      "text/plain": [
       "                                    _id  approvalfy board_approval_month  \\\n",
       "0  {'$oid': '52b213b38594d8a2be17c780'}        1999             November   \n",
       "1  {'$oid': '52b213b38594d8a2be17c781'}        2015             November   \n",
       "\n",
       "      boardapprovaldate                                 borrower  \\\n",
       "0  2013-11-12T00:00:00Z  FEDERAL DEMOCRATIC REPUBLIC OF ETHIOPIA   \n",
       "1  2013-11-04T00:00:00Z                    GOVERNMENT OF TUNISIA   \n",
       "\n",
       "            closingdate                              country_namecode  \\\n",
       "0  2018-07-07T00:00:00Z  Federal Democratic Republic of Ethiopia!$!ET   \n",
       "1                   NaN                      Republic of Tunisia!$!TN   \n",
       "\n",
       "  countrycode                              countryname countryshortname  ...  \\\n",
       "0          ET  Federal Democratic Republic of Ethiopia         Ethiopia  ...   \n",
       "1          TN                      Republic of Tunisia          Tunisia  ...   \n",
       "\n",
       "    sectorcode source  status  supplementprojectflg  \\\n",
       "0  ET,BS,ES,EP   IBRD  Active                     N   \n",
       "1        BZ,BS   IBRD  Active                     N   \n",
       "\n",
       "                                              theme1  \\\n",
       "0      {'Name': 'Education for all', 'Percent': 100}   \n",
       "1  {'Name': 'Other economic management', 'Percent...   \n",
       "\n",
       "                                      theme_namecode themecode   totalamt  \\\n",
       "0      [{'name': 'Education for all', 'code': '65'}]        65  130000000   \n",
       "1  [{'name': 'Other economic management', 'code':...     54,24          0   \n",
       "\n",
       "  totalcommamt                                                url  \n",
       "0    130000000  http://www.worldbank.org/projects/P129828/ethi...  \n",
       "1      4700000  http://www.worldbank.org/projects/P144674?lang=en  \n",
       "\n",
       "[2 rows x 50 columns]"
      ]
     },
     "execution_count": 7,
     "metadata": {},
     "output_type": "execute_result"
    }
   ],
   "source": [
    "# load as Pandas dataframe\n",
    "sample_json_df = pd.read_json('data/world_bank_projects_less.json')\n",
    "sample_json_df"
   ]
  },
  {
   "cell_type": "markdown",
   "metadata": {},
   "source": [
    "****\n",
    "## JSON exercise\n",
    "\n",
    "Using data in file 'data/world_bank_projects.json' and the techniques demonstrated above,\n",
    "1. Find the 10 countries with most projects\n",
    "2. Find the top 10 major project themes (using column 'mjtheme_namecode')\n",
    "3. In 2. above you will notice that some entries have only the code and the name is missing. Create a dataframe with the missing names filled in."
   ]
  },
  {
   "cell_type": "markdown",
   "metadata": {
    "collapsed": true
   },
   "source": [
    "## Answer 1: Find the 10 countries with most projects?"
   ]
  },
  {
   "cell_type": "code",
   "execution_count": 12,
   "metadata": {},
   "outputs": [],
   "source": [
    "with open ('data/world_bank_projects.json') as file:\n",
    "    json_data = json.load(file)"
   ]
  },
  {
   "cell_type": "markdown",
   "metadata": {},
   "source": [
    "#### Create new dataframe"
   ]
  },
  {
   "cell_type": "code",
   "execution_count": 14,
   "metadata": {},
   "outputs": [],
   "source": [
    "df = pd.DataFrame(json_data)"
   ]
  },
  {
   "cell_type": "code",
   "execution_count": 16,
   "metadata": {},
   "outputs": [
    {
     "name": "stdout",
     "output_type": "stream",
     "text": [
      "<class 'pandas.core.frame.DataFrame'>\n",
      "RangeIndex: 500 entries, 0 to 499\n",
      "Data columns (total 50 columns):\n",
      "_id                         500 non-null object\n",
      "approvalfy                  500 non-null object\n",
      "board_approval_month        500 non-null object\n",
      "boardapprovaldate           500 non-null object\n",
      "borrower                    485 non-null object\n",
      "closingdate                 370 non-null object\n",
      "country_namecode            500 non-null object\n",
      "countrycode                 500 non-null object\n",
      "countryname                 500 non-null object\n",
      "countryshortname            500 non-null object\n",
      "docty                       446 non-null object\n",
      "envassesmentcategorycode    430 non-null object\n",
      "grantamt                    500 non-null int64\n",
      "ibrdcommamt                 500 non-null int64\n",
      "id                          500 non-null object\n",
      "idacommamt                  500 non-null int64\n",
      "impagency                   472 non-null object\n",
      "lendinginstr                495 non-null object\n",
      "lendinginstrtype            495 non-null object\n",
      "lendprojectcost             500 non-null int64\n",
      "majorsector_percent         500 non-null object\n",
      "mjsector_namecode           500 non-null object\n",
      "mjtheme                     491 non-null object\n",
      "mjtheme_namecode            500 non-null object\n",
      "mjthemecode                 500 non-null object\n",
      "prodline                    500 non-null object\n",
      "prodlinetext                500 non-null object\n",
      "productlinetype             500 non-null object\n",
      "project_abstract            362 non-null object\n",
      "project_name                500 non-null object\n",
      "projectdocs                 446 non-null object\n",
      "projectfinancialtype        500 non-null object\n",
      "projectstatusdisplay        500 non-null object\n",
      "regionname                  500 non-null object\n",
      "sector                      500 non-null object\n",
      "sector1                     500 non-null object\n",
      "sector2                     380 non-null object\n",
      "sector3                     265 non-null object\n",
      "sector4                     174 non-null object\n",
      "sector_namecode             500 non-null object\n",
      "sectorcode                  500 non-null object\n",
      "source                      500 non-null object\n",
      "status                      500 non-null object\n",
      "supplementprojectflg        498 non-null object\n",
      "theme1                      500 non-null object\n",
      "theme_namecode              491 non-null object\n",
      "themecode                   491 non-null object\n",
      "totalamt                    500 non-null int64\n",
      "totalcommamt                500 non-null int64\n",
      "url                         500 non-null object\n",
      "dtypes: int64(6), object(44)\n",
      "memory usage: 195.4+ KB\n"
     ]
    }
   ],
   "source": [
    "df.info()"
   ]
  },
  {
   "cell_type": "code",
   "execution_count": 19,
   "metadata": {},
   "outputs": [
    {
     "data": {
      "text/html": [
       "<div>\n",
       "<style scoped>\n",
       "    .dataframe tbody tr th:only-of-type {\n",
       "        vertical-align: middle;\n",
       "    }\n",
       "\n",
       "    .dataframe tbody tr th {\n",
       "        vertical-align: top;\n",
       "    }\n",
       "\n",
       "    .dataframe thead th {\n",
       "        text-align: right;\n",
       "    }\n",
       "</style>\n",
       "<table border=\"1\" class=\"dataframe\">\n",
       "  <thead>\n",
       "    <tr style=\"text-align: right;\">\n",
       "      <th></th>\n",
       "      <th>_id</th>\n",
       "      <th>approvalfy</th>\n",
       "      <th>board_approval_month</th>\n",
       "      <th>boardapprovaldate</th>\n",
       "      <th>borrower</th>\n",
       "      <th>closingdate</th>\n",
       "      <th>country_namecode</th>\n",
       "      <th>countrycode</th>\n",
       "      <th>countryname</th>\n",
       "      <th>countryshortname</th>\n",
       "      <th>...</th>\n",
       "      <th>sectorcode</th>\n",
       "      <th>source</th>\n",
       "      <th>status</th>\n",
       "      <th>supplementprojectflg</th>\n",
       "      <th>theme1</th>\n",
       "      <th>theme_namecode</th>\n",
       "      <th>themecode</th>\n",
       "      <th>totalamt</th>\n",
       "      <th>totalcommamt</th>\n",
       "      <th>url</th>\n",
       "    </tr>\n",
       "  </thead>\n",
       "  <tbody>\n",
       "    <tr>\n",
       "      <th>0</th>\n",
       "      <td>{'$oid': '52b213b38594d8a2be17c780'}</td>\n",
       "      <td>1999</td>\n",
       "      <td>November</td>\n",
       "      <td>2013-11-12T00:00:00Z</td>\n",
       "      <td>FEDERAL DEMOCRATIC REPUBLIC OF ETHIOPIA</td>\n",
       "      <td>2018-07-07T00:00:00Z</td>\n",
       "      <td>Federal Democratic Republic of Ethiopia!$!ET</td>\n",
       "      <td>ET</td>\n",
       "      <td>Federal Democratic Republic of Ethiopia</td>\n",
       "      <td>Ethiopia</td>\n",
       "      <td>...</td>\n",
       "      <td>ET,BS,ES,EP</td>\n",
       "      <td>IBRD</td>\n",
       "      <td>Active</td>\n",
       "      <td>N</td>\n",
       "      <td>{'Percent': 100, 'Name': 'Education for all'}</td>\n",
       "      <td>[{'code': '65', 'name': 'Education for all'}]</td>\n",
       "      <td>65</td>\n",
       "      <td>130000000</td>\n",
       "      <td>130000000</td>\n",
       "      <td>http://www.worldbank.org/projects/P129828/ethi...</td>\n",
       "    </tr>\n",
       "    <tr>\n",
       "      <th>1</th>\n",
       "      <td>{'$oid': '52b213b38594d8a2be17c781'}</td>\n",
       "      <td>2015</td>\n",
       "      <td>November</td>\n",
       "      <td>2013-11-04T00:00:00Z</td>\n",
       "      <td>GOVERNMENT OF TUNISIA</td>\n",
       "      <td>NaN</td>\n",
       "      <td>Republic of Tunisia!$!TN</td>\n",
       "      <td>TN</td>\n",
       "      <td>Republic of Tunisia</td>\n",
       "      <td>Tunisia</td>\n",
       "      <td>...</td>\n",
       "      <td>BZ,BS</td>\n",
       "      <td>IBRD</td>\n",
       "      <td>Active</td>\n",
       "      <td>N</td>\n",
       "      <td>{'Percent': 30, 'Name': 'Other economic manage...</td>\n",
       "      <td>[{'code': '24', 'name': 'Other economic manage...</td>\n",
       "      <td>54,24</td>\n",
       "      <td>0</td>\n",
       "      <td>4700000</td>\n",
       "      <td>http://www.worldbank.org/projects/P144674?lang=en</td>\n",
       "    </tr>\n",
       "    <tr>\n",
       "      <th>2</th>\n",
       "      <td>{'$oid': '52b213b38594d8a2be17c782'}</td>\n",
       "      <td>2014</td>\n",
       "      <td>November</td>\n",
       "      <td>2013-11-01T00:00:00Z</td>\n",
       "      <td>MINISTRY OF FINANCE AND ECONOMIC DEVEL</td>\n",
       "      <td>NaN</td>\n",
       "      <td>Tuvalu!$!TV</td>\n",
       "      <td>TV</td>\n",
       "      <td>Tuvalu</td>\n",
       "      <td>Tuvalu</td>\n",
       "      <td>...</td>\n",
       "      <td>TI</td>\n",
       "      <td>IBRD</td>\n",
       "      <td>Active</td>\n",
       "      <td>Y</td>\n",
       "      <td>{'Percent': 46, 'Name': 'Regional integration'}</td>\n",
       "      <td>[{'code': '47', 'name': 'Regional integration'...</td>\n",
       "      <td>52,81,25,47</td>\n",
       "      <td>6060000</td>\n",
       "      <td>6060000</td>\n",
       "      <td>http://www.worldbank.org/projects/P145310?lang=en</td>\n",
       "    </tr>\n",
       "  </tbody>\n",
       "</table>\n",
       "<p>3 rows × 50 columns</p>\n",
       "</div>"
      ],
      "text/plain": [
       "                                    _id approvalfy board_approval_month  \\\n",
       "0  {'$oid': '52b213b38594d8a2be17c780'}       1999             November   \n",
       "1  {'$oid': '52b213b38594d8a2be17c781'}       2015             November   \n",
       "2  {'$oid': '52b213b38594d8a2be17c782'}       2014             November   \n",
       "\n",
       "      boardapprovaldate                                 borrower  \\\n",
       "0  2013-11-12T00:00:00Z  FEDERAL DEMOCRATIC REPUBLIC OF ETHIOPIA   \n",
       "1  2013-11-04T00:00:00Z                    GOVERNMENT OF TUNISIA   \n",
       "2  2013-11-01T00:00:00Z   MINISTRY OF FINANCE AND ECONOMIC DEVEL   \n",
       "\n",
       "            closingdate                              country_namecode  \\\n",
       "0  2018-07-07T00:00:00Z  Federal Democratic Republic of Ethiopia!$!ET   \n",
       "1                   NaN                      Republic of Tunisia!$!TN   \n",
       "2                   NaN                                   Tuvalu!$!TV   \n",
       "\n",
       "  countrycode                              countryname countryshortname  ...  \\\n",
       "0          ET  Federal Democratic Republic of Ethiopia         Ethiopia  ...   \n",
       "1          TN                      Republic of Tunisia          Tunisia  ...   \n",
       "2          TV                                   Tuvalu           Tuvalu  ...   \n",
       "\n",
       "    sectorcode source  status  supplementprojectflg  \\\n",
       "0  ET,BS,ES,EP   IBRD  Active                     N   \n",
       "1        BZ,BS   IBRD  Active                     N   \n",
       "2           TI   IBRD  Active                     Y   \n",
       "\n",
       "                                              theme1  \\\n",
       "0      {'Percent': 100, 'Name': 'Education for all'}   \n",
       "1  {'Percent': 30, 'Name': 'Other economic manage...   \n",
       "2    {'Percent': 46, 'Name': 'Regional integration'}   \n",
       "\n",
       "                                      theme_namecode    themecode   totalamt  \\\n",
       "0      [{'code': '65', 'name': 'Education for all'}]           65  130000000   \n",
       "1  [{'code': '24', 'name': 'Other economic manage...        54,24          0   \n",
       "2  [{'code': '47', 'name': 'Regional integration'...  52,81,25,47    6060000   \n",
       "\n",
       "  totalcommamt                                                url  \n",
       "0    130000000  http://www.worldbank.org/projects/P129828/ethi...  \n",
       "1      4700000  http://www.worldbank.org/projects/P144674?lang=en  \n",
       "2      6060000  http://www.worldbank.org/projects/P145310?lang=en  \n",
       "\n",
       "[3 rows x 50 columns]"
      ]
     },
     "execution_count": 19,
     "metadata": {},
     "output_type": "execute_result"
    }
   ],
   "source": [
    "df.head(3)"
   ]
  },
  {
   "cell_type": "markdown",
   "metadata": {},
   "source": [
    "#### List the countries with most projects"
   ]
  },
  {
   "cell_type": "code",
   "execution_count": 193,
   "metadata": {},
   "outputs": [],
   "source": [
    "top_countries=df.groupby(['countryshortname'],sort=False)['countryshortname'].count().nlargest(10)"
   ]
  },
  {
   "cell_type": "code",
   "execution_count": 194,
   "metadata": {},
   "outputs": [
    {
     "name": "stdout",
     "output_type": "stream",
     "text": [
      "countryshortname\n",
      "China                 19\n",
      "Indonesia             19\n",
      "Vietnam               17\n",
      "India                 16\n",
      "Yemen, Republic of    13\n",
      "Morocco               12\n",
      "Nepal                 12\n",
      "Bangladesh            12\n",
      "Mozambique            11\n",
      "Africa                11\n",
      "Name: countryshortname, dtype: int64\n"
     ]
    }
   ],
   "source": [
    "print(top_countries)"
   ]
  },
  {
   "cell_type": "code",
   "execution_count": 221,
   "metadata": {},
   "outputs": [
    {
     "data": {
      "text/plain": [
       "<matplotlib.axes._subplots.AxesSubplot at 0x1a237ae748>"
      ]
     },
     "execution_count": 221,
     "metadata": {},
     "output_type": "execute_result"
    },
    {
     "data": {
      "image/png": "[encoded data removed]",
      "text/plain": [
       "<Figure size 432x288 with 1 Axes>"
      ]
     },
     "metadata": {
      "needs_background": "light"
     },
     "output_type": "display_data"
    }
   ],
   "source": [
    "top_countries.plot(kind='bar')"
   ]
  },
  {
   "cell_type": "markdown",
   "metadata": {},
   "source": [
    "###  Answer 2: Find the top 10 major project themes (using column 'mjtheme_namecode')"
   ]
  },
  {
   "cell_type": "code",
   "execution_count": 222,
   "metadata": {},
   "outputs": [],
   "source": [
    "normalized_df=json_normalize(json_data,'mjtheme_namecode')"
   ]
  },
  {
   "cell_type": "code",
   "execution_count": 223,
   "metadata": {},
   "outputs": [
    {
     "name": "stdout",
     "output_type": "stream",
     "text": [
      "<class 'pandas.core.frame.DataFrame'>\n",
      "RangeIndex: 1499 entries, 0 to 1498\n",
      "Data columns (total 2 columns):\n",
      "code    1499 non-null object\n",
      "name    1499 non-null object\n",
      "dtypes: object(2)\n",
      "memory usage: 23.5+ KB\n"
     ]
    }
   ],
   "source": [
    "normalized_df.info()"
   ]
  },
  {
   "cell_type": "code",
   "execution_count": 224,
   "metadata": {},
   "outputs": [
    {
     "data": {
      "text/html": [
       "<div>\n",
       "<style scoped>\n",
       "    .dataframe tbody tr th:only-of-type {\n",
       "        vertical-align: middle;\n",
       "    }\n",
       "\n",
       "    .dataframe tbody tr th {\n",
       "        vertical-align: top;\n",
       "    }\n",
       "\n",
       "    .dataframe thead th {\n",
       "        text-align: right;\n",
       "    }\n",
       "</style>\n",
       "<table border=\"1\" class=\"dataframe\">\n",
       "  <thead>\n",
       "    <tr style=\"text-align: right;\">\n",
       "      <th></th>\n",
       "      <th>code</th>\n",
       "      <th>name</th>\n",
       "    </tr>\n",
       "  </thead>\n",
       "  <tbody>\n",
       "    <tr>\n",
       "      <th>0</th>\n",
       "      <td>8</td>\n",
       "      <td>Human development</td>\n",
       "    </tr>\n",
       "    <tr>\n",
       "      <th>1</th>\n",
       "      <td>11</td>\n",
       "      <td></td>\n",
       "    </tr>\n",
       "    <tr>\n",
       "      <th>2</th>\n",
       "      <td>1</td>\n",
       "      <td>Economic management</td>\n",
       "    </tr>\n",
       "    <tr>\n",
       "      <th>3</th>\n",
       "      <td>6</td>\n",
       "      <td>Social protection and risk management</td>\n",
       "    </tr>\n",
       "    <tr>\n",
       "      <th>4</th>\n",
       "      <td>5</td>\n",
       "      <td>Trade and integration</td>\n",
       "    </tr>\n",
       "    <tr>\n",
       "      <th>5</th>\n",
       "      <td>2</td>\n",
       "      <td>Public sector governance</td>\n",
       "    </tr>\n",
       "    <tr>\n",
       "      <th>6</th>\n",
       "      <td>11</td>\n",
       "      <td>Environment and natural resources management</td>\n",
       "    </tr>\n",
       "    <tr>\n",
       "      <th>7</th>\n",
       "      <td>6</td>\n",
       "      <td>Social protection and risk management</td>\n",
       "    </tr>\n",
       "    <tr>\n",
       "      <th>8</th>\n",
       "      <td>7</td>\n",
       "      <td>Social dev/gender/inclusion</td>\n",
       "    </tr>\n",
       "    <tr>\n",
       "      <th>9</th>\n",
       "      <td>7</td>\n",
       "      <td>Social dev/gender/inclusion</td>\n",
       "    </tr>\n",
       "  </tbody>\n",
       "</table>\n",
       "</div>"
      ],
      "text/plain": [
       "  code                                          name\n",
       "0    8                             Human development\n",
       "1   11                                              \n",
       "2    1                           Economic management\n",
       "3    6         Social protection and risk management\n",
       "4    5                         Trade and integration\n",
       "5    2                      Public sector governance\n",
       "6   11  Environment and natural resources management\n",
       "7    6         Social protection and risk management\n",
       "8    7                   Social dev/gender/inclusion\n",
       "9    7                   Social dev/gender/inclusion"
      ]
     },
     "execution_count": 224,
     "metadata": {},
     "output_type": "execute_result"
    }
   ],
   "source": [
    "normalized_df.head(10)"
   ]
  },
  {
   "cell_type": "code",
   "execution_count": 228,
   "metadata": {},
   "outputs": [],
   "source": [
    "top_themes = normalized_df.groupby('name')['code'].count().nlargest(11)"
   ]
  },
  {
   "cell_type": "code",
   "execution_count": 229,
   "metadata": {},
   "outputs": [
    {
     "name": "stdout",
     "output_type": "stream",
     "text": [
      "name\n",
      "Environment and natural resources management    223\n",
      "Rural development                               202\n",
      "Human development                               197\n",
      "Public sector governance                        184\n",
      "Social protection and risk management           158\n",
      "Financial and private sector development        130\n",
      "                                                122\n",
      "Social dev/gender/inclusion                     119\n",
      "Trade and integration                            72\n",
      "Urban development                                47\n",
      "Economic management                              33\n",
      "Name: code, dtype: int64\n"
     ]
    }
   ],
   "source": [
    "print(top_themes)"
   ]
  },
  {
   "cell_type": "code",
   "execution_count": 227,
   "metadata": {},
   "outputs": [
    {
     "data": {
      "text/plain": [
       "<matplotlib.axes._subplots.AxesSubplot at 0x1a23903160>"
      ]
     },
     "execution_count": 227,
     "metadata": {},
     "output_type": "execute_result"
    },
    {
     "data": {
      "image/png": "[encoded data removed]",
      "text/plain": [
       "<Figure size 432x288 with 1 Axes>"
      ]
     },
     "metadata": {
      "needs_background": "light"
     },
     "output_type": "display_data"
    }
   ],
   "source": [
    "top_themes.plot(kind='bar')"
   ]
  },
  {
   "cell_type": "markdown",
   "metadata": {},
   "source": [
    "###  Answer: above you will notice that some entries have only the code and the name is missing. Create a dataframe with the missing names filled in."
   ]
  },
  {
   "cell_type": "markdown",
   "metadata": {},
   "source": [
    "##### Explore the data for missing codes"
   ]
  },
  {
   "cell_type": "code",
   "execution_count": 235,
   "metadata": {},
   "outputs": [
    {
     "name": "stdout",
     "output_type": "stream",
     "text": [
      "     code                                          name\n",
      "0       8                             Human development\n",
      "1      11                                              \n",
      "2       1                           Economic management\n",
      "3       6         Social protection and risk management\n",
      "4       5                         Trade and integration\n",
      "5       2                      Public sector governance\n",
      "6      11  Environment and natural resources management\n",
      "7       6         Social protection and risk management\n",
      "8       7                   Social dev/gender/inclusion\n",
      "9       7                   Social dev/gender/inclusion\n",
      "10      5                         Trade and integration\n",
      "11      4      Financial and private sector development\n",
      "12      6         Social protection and risk management\n",
      "13      6                                              \n",
      "14      2                      Public sector governance\n",
      "15      4      Financial and private sector development\n",
      "16     11  Environment and natural resources management\n",
      "17      8                                              \n",
      "18     10                             Rural development\n",
      "19      7                                              \n",
      "20      2                      Public sector governance\n",
      "21      2                      Public sector governance\n",
      "22      2                      Public sector governance\n",
      "23     10                             Rural development\n",
      "24      2                                              \n",
      "25     10                             Rural development\n",
      "26      6         Social protection and risk management\n",
      "27      6         Social protection and risk management\n",
      "28     11  Environment and natural resources management\n",
      "29      4                                              \n",
      "...   ...                                           ...\n",
      "1469    8                             Human development\n",
      "1470    9                             Urban development\n",
      "1471    6         Social protection and risk management\n",
      "1472    6         Social protection and risk management\n",
      "1473    9                             Urban development\n",
      "1474    2                      Public sector governance\n",
      "1475    2                      Public sector governance\n",
      "1476   10                             Rural development\n",
      "1477   11                                              \n",
      "1478    8                             Human development\n",
      "1479    7                   Social dev/gender/inclusion\n",
      "1480   11  Environment and natural resources management\n",
      "1481    5                                              \n",
      "1482    6         Social protection and risk management\n",
      "1483    8                                              \n",
      "1484    4      Financial and private sector development\n",
      "1485    7                   Social dev/gender/inclusion\n",
      "1486    8                             Human development\n",
      "1487    5                         Trade and integration\n",
      "1488    2                      Public sector governance\n",
      "1489    8                             Human development\n",
      "1490   10                             Rural development\n",
      "1491    6                                              \n",
      "1492   10                             Rural development\n",
      "1493   10                             Rural development\n",
      "1494   10                             Rural development\n",
      "1495    9                             Urban development\n",
      "1496    8                             Human development\n",
      "1497    5                         Trade and integration\n",
      "1498    4      Financial and private sector development\n",
      "\n",
      "[1499 rows x 2 columns]\n"
     ]
    }
   ],
   "source": [
    "print(normalized_df)"
   ]
  },
  {
   "cell_type": "code",
   "execution_count": 256,
   "metadata": {},
   "outputs": [],
   "source": [
    "code_to_name = {}\n",
    "\n",
    "def get_mapping(row):\n",
    "    code = row['code']\n",
    "    name = row['name']\n",
    "    if name == '' or name == None:\n",
    "        return row\n",
    "    code_to_name[code] = name\n",
    "    return row\n",
    "\n",
    "\n",
    "normalized_df=normalized_df.apply(get_mapping,axis=1)\n",
    "normalized_df['name']=normalized_df['code'].map(code_to_name)"
   ]
  },
  {
   "cell_type": "code",
   "execution_count": 257,
   "metadata": {},
   "outputs": [
    {
     "name": "stdout",
     "output_type": "stream",
     "text": [
      "     code                                          name\n",
      "0       8                             Human development\n",
      "1      11  Environment and natural resources management\n",
      "2       1                           Economic management\n",
      "3       6         Social protection and risk management\n",
      "4       5                         Trade and integration\n",
      "5       2                      Public sector governance\n",
      "6      11  Environment and natural resources management\n",
      "7       6         Social protection and risk management\n",
      "8       7                   Social dev/gender/inclusion\n",
      "9       7                   Social dev/gender/inclusion\n",
      "10      5                         Trade and integration\n",
      "11      4      Financial and private sector development\n",
      "12      6         Social protection and risk management\n",
      "13      6         Social protection and risk management\n",
      "14      2                      Public sector governance\n",
      "15      4      Financial and private sector development\n",
      "16     11  Environment and natural resources management\n",
      "17      8                             Human development\n",
      "18     10                             Rural development\n",
      "19      7                   Social dev/gender/inclusion\n",
      "20      2                      Public sector governance\n",
      "21      2                      Public sector governance\n",
      "22      2                      Public sector governance\n",
      "23     10                             Rural development\n",
      "24      2                      Public sector governance\n",
      "25     10                             Rural development\n",
      "26      6         Social protection and risk management\n",
      "27      6         Social protection and risk management\n",
      "28     11  Environment and natural resources management\n",
      "29      4      Financial and private sector development\n",
      "...   ...                                           ...\n",
      "1469    8                             Human development\n",
      "1470    9                             Urban development\n",
      "1471    6         Social protection and risk management\n",
      "1472    6         Social protection and risk management\n",
      "1473    9                             Urban development\n",
      "1474    2                      Public sector governance\n",
      "1475    2                      Public sector governance\n",
      "1476   10                             Rural development\n",
      "1477   11  Environment and natural resources management\n",
      "1478    8                             Human development\n",
      "1479    7                   Social dev/gender/inclusion\n",
      "1480   11  Environment and natural resources management\n",
      "1481    5                         Trade and integration\n",
      "1482    6         Social protection and risk management\n",
      "1483    8                             Human development\n",
      "1484    4      Financial and private sector development\n",
      "1485    7                   Social dev/gender/inclusion\n",
      "1486    8                             Human development\n",
      "1487    5                         Trade and integration\n",
      "1488    2                      Public sector governance\n",
      "1489    8                             Human development\n",
      "1490   10                             Rural development\n",
      "1491    6         Social protection and risk management\n",
      "1492   10                             Rural development\n",
      "1493   10                             Rural development\n",
      "1494   10                             Rural development\n",
      "1495    9                             Urban development\n",
      "1496    8                             Human development\n",
      "1497    5                         Trade and integration\n",
      "1498    4      Financial and private sector development\n",
      "\n",
      "[1499 rows x 2 columns]\n"
     ]
    }
   ],
   "source": [
    "print(normalized_df)"
   ]
  },
  {
   "cell_type": "code",
   "execution_count": 258,
   "metadata": {},
   "outputs": [],
   "source": [
    "top_themes = normalized_df.groupby('name')['code'].count().nlargest(11)"
   ]
  },
  {
   "cell_type": "code",
   "execution_count": 259,
   "metadata": {},
   "outputs": [
    {
     "name": "stdout",
     "output_type": "stream",
     "text": [
      "name\n",
      "Environment and natural resources management    250\n",
      "Rural development                               216\n",
      "Human development                               210\n",
      "Public sector governance                        199\n",
      "Social protection and risk management           168\n",
      "Financial and private sector development        146\n",
      "Social dev/gender/inclusion                     130\n",
      "Trade and integration                            77\n",
      "Urban development                                50\n",
      "Economic management                              38\n",
      "Rule of law                                      15\n",
      "Name: code, dtype: int64\n"
     ]
    }
   ],
   "source": [
    "print(top_themes)"
   ]
  },
  {
   "cell_type": "code",
   "execution_count": 260,
   "metadata": {},
   "outputs": [
    {
     "data": {
      "text/plain": [
       "<matplotlib.axes._subplots.AxesSubplot at 0x1a23d2f438>"
      ]
     },
     "execution_count": 260,
     "metadata": {},
     "output_type": "execute_result"
    },
    {
     "data": {
      "image/png": "[encoded data removed]",
      "text/plain": [
       "<Figure size 432x288 with 1 Axes>"
      ]
     },
     "metadata": {
      "needs_background": "light"
     },
     "output_type": "display_data"
    }
   ],
   "source": [
    "top_themes.plot(kind='bar')"
   ]
  }
 ],
 "metadata": {
  "kernelspec": {
   "display_name": "Python 3",
   "language": "python",
   "name": "python3"
  },
  "language_info": {
   "codemirror_mode": {
    "name": "ipython",
    "version": 3
   },
   "file_extension": ".py",
   "mimetype": "text/x-python",
   "name": "python",
   "nbconvert_exporter": "python",
   "pygments_lexer": "ipython3",
   "version": "3.7.3"
  }
 },
 "nbformat": 4,
 "nbformat_minor": 1
}
