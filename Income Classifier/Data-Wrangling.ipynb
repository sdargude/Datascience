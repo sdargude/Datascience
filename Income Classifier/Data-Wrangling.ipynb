{
 "cells": [
  {
   "cell_type": "markdown",
   "metadata": {},
   "source": [
    "##  The Problem Statement:"
   ]
  },
  {
   "cell_type": "markdown",
   "metadata": {},
   "source": [
    "\n",
    "Snap-Shot LLC.  is a startup which specializes in building mirrorless digital cameras.  The company is planning to introduce a new line of above full frame digital cameras. Based on historical statistics of digital camera sales, a person earning more than specific income is more likely to buy an expensive camera.  Company decides to launch a marketing camping to targeted to specific set of potential customers who earn more than $50000 annually."
   ]
  },
  {
   "cell_type": "markdown",
   "metadata": {},
   "source": [
    "### Solution:"
   ]
  },
  {
   "cell_type": "code",
   "execution_count": 32,
   "metadata": {},
   "outputs": [],
   "source": [
    "import pandas as pd\n",
    "import seaborn as sns\n",
    "import numpy as np\n",
    "import matplotlib.pyplot as plt\n",
    "from sklearn.metrics import plot_roc_curve\n",
    "from sklearn.ensemble import RandomForestClassifier\n",
    "from sklearn.model_selection import train_test_split\n",
    "from sklearn.model_selection import cross_validate\n",
    "from sklearn.metrics import roc_curve,roc_auc_score\n",
    "from sklearn.model_selection import RepeatedStratifiedKFold\n",
    "from sklearn.model_selection import cross_val_score\n",
    "import vtreat\n",
    "import vtreat.util\n",
    "from pprint import pprint\n",
    "from sklearn.metrics import r2_score\n",
    "from sklearn.metrics import f1_score, precision_score, recall_score,confusion_matrix\n",
    "from sklearn.metrics import roc_auc_score,auc\n",
    "from sklearn.metrics import plot_roc_curve\n",
    "from sklearn.tree import DecisionTreeClassifier\n",
    "from sklearn.ensemble import AdaBoostClassifier\n",
    "from sklearn.model_selection import GridSearchCV\n",
    "from sklearn.model_selection import RandomizedSearchCV\n",
    "from sklearn.ensemble import RandomForestRegressor\n",
    "from sklearn.preprocessing import LabelEncoder, OneHotEncoder\n",
    "from sklearn.neighbors import KNeighborsClassifier\n",
    "from sklearn.svm import SVC\n",
    "from sklearn.gaussian_process import GaussianProcessClassifier\n",
    "from sklearn.gaussian_process.kernels import RBF\n",
    "from sklearn.tree import DecisionTreeClassifier\n",
    "from sklearn.ensemble import RandomForestClassifier, AdaBoostClassifier,GradientBoostingClassifier\n",
    "from sklearn.naive_bayes import GaussianNB\n",
    "from sklearn.discriminant_analysis import QuadraticDiscriminantAnalysis\n",
    "from sklearn.neural_network import MLPClassifier"
   ]
  },
  {
   "cell_type": "markdown",
   "metadata": {},
   "source": [
    "### Step 1: Data Exploration"
   ]
  },
  {
   "cell_type": "markdown",
   "metadata": {},
   "source": [
    "#### Read raw data in DataFrame "
   ]
  },
  {
   "cell_type": "code",
   "execution_count": 34,
   "metadata": {},
   "outputs": [],
   "source": [
    "# List of csv files.\n",
    "#Training Data.\n",
    "csv_file = 'census-income.data'\n",
    "\n",
    "#Simplified column names for training and testing data.\n",
    "headers_easy = 'headers_easy.txt'\n",
    "\n",
    "#Test data\n",
    "csv_file_test = 'census-income.test'"
   ]
  },
  {
   "cell_type": "code",
   "execution_count": 35,
   "metadata": {},
   "outputs": [],
   "source": [
    "#Read the training and test data into a dataframe.\n",
    "\n",
    "#Training data.\n",
    "df = pd.read_csv(csv_file,header=None)\n",
    "\n",
    "#Testing data.\n",
    "df_test = pd.read_csv(csv_file_test, header=None)"
   ]
  },
  {
   "cell_type": "code",
   "execution_count": 36,
   "metadata": {},
   "outputs": [
    {
     "data": {
      "text/html": [
       "<div>\n",
       "<style scoped>\n",
       "    .dataframe tbody tr th:only-of-type {\n",
       "        vertical-align: middle;\n",
       "    }\n",
       "\n",
       "    .dataframe tbody tr th {\n",
       "        vertical-align: top;\n",
       "    }\n",
       "\n",
       "    .dataframe thead th {\n",
       "        text-align: right;\n",
       "    }\n",
       "</style>\n",
       "<table border=\"1\" class=\"dataframe\">\n",
       "  <thead>\n",
       "    <tr style=\"text-align: right;\">\n",
       "      <th></th>\n",
       "      <th>0</th>\n",
       "      <th>1</th>\n",
       "      <th>2</th>\n",
       "      <th>3</th>\n",
       "      <th>4</th>\n",
       "      <th>5</th>\n",
       "      <th>6</th>\n",
       "      <th>7</th>\n",
       "      <th>8</th>\n",
       "      <th>9</th>\n",
       "      <th>...</th>\n",
       "      <th>32</th>\n",
       "      <th>33</th>\n",
       "      <th>34</th>\n",
       "      <th>35</th>\n",
       "      <th>36</th>\n",
       "      <th>37</th>\n",
       "      <th>38</th>\n",
       "      <th>39</th>\n",
       "      <th>40</th>\n",
       "      <th>41</th>\n",
       "    </tr>\n",
       "  </thead>\n",
       "  <tbody>\n",
       "    <tr>\n",
       "      <th>0</th>\n",
       "      <td>73</td>\n",
       "      <td>Not in universe</td>\n",
       "      <td>0</td>\n",
       "      <td>0</td>\n",
       "      <td>High school graduate</td>\n",
       "      <td>0</td>\n",
       "      <td>Not in universe</td>\n",
       "      <td>Widowed</td>\n",
       "      <td>Not in universe or children</td>\n",
       "      <td>Not in universe</td>\n",
       "      <td>...</td>\n",
       "      <td>United-States</td>\n",
       "      <td>United-States</td>\n",
       "      <td>United-States</td>\n",
       "      <td>Native- Born in the United States</td>\n",
       "      <td>0</td>\n",
       "      <td>Not in universe</td>\n",
       "      <td>2</td>\n",
       "      <td>0</td>\n",
       "      <td>95</td>\n",
       "      <td>- 50000.</td>\n",
       "    </tr>\n",
       "    <tr>\n",
       "      <th>1</th>\n",
       "      <td>58</td>\n",
       "      <td>Self-employed-not incorporated</td>\n",
       "      <td>4</td>\n",
       "      <td>34</td>\n",
       "      <td>Some college but no degree</td>\n",
       "      <td>0</td>\n",
       "      <td>Not in universe</td>\n",
       "      <td>Divorced</td>\n",
       "      <td>Construction</td>\n",
       "      <td>Precision production craft &amp; repair</td>\n",
       "      <td>...</td>\n",
       "      <td>United-States</td>\n",
       "      <td>United-States</td>\n",
       "      <td>United-States</td>\n",
       "      <td>Native- Born in the United States</td>\n",
       "      <td>0</td>\n",
       "      <td>Not in universe</td>\n",
       "      <td>2</td>\n",
       "      <td>52</td>\n",
       "      <td>94</td>\n",
       "      <td>- 50000.</td>\n",
       "    </tr>\n",
       "    <tr>\n",
       "      <th>2</th>\n",
       "      <td>18</td>\n",
       "      <td>Not in universe</td>\n",
       "      <td>0</td>\n",
       "      <td>0</td>\n",
       "      <td>10th grade</td>\n",
       "      <td>0</td>\n",
       "      <td>High school</td>\n",
       "      <td>Never married</td>\n",
       "      <td>Not in universe or children</td>\n",
       "      <td>Not in universe</td>\n",
       "      <td>...</td>\n",
       "      <td>Vietnam</td>\n",
       "      <td>Vietnam</td>\n",
       "      <td>Vietnam</td>\n",
       "      <td>Foreign born- Not a citizen of U S</td>\n",
       "      <td>0</td>\n",
       "      <td>Not in universe</td>\n",
       "      <td>2</td>\n",
       "      <td>0</td>\n",
       "      <td>95</td>\n",
       "      <td>- 50000.</td>\n",
       "    </tr>\n",
       "  </tbody>\n",
       "</table>\n",
       "<p>3 rows × 42 columns</p>\n",
       "</div>"
      ],
      "text/plain": [
       "   0                                1   2   3                            4   \\\n",
       "0  73                  Not in universe   0   0         High school graduate   \n",
       "1  58   Self-employed-not incorporated   4  34   Some college but no degree   \n",
       "2  18                  Not in universe   0   0                   10th grade   \n",
       "\n",
       "   5                 6               7                             8   \\\n",
       "0   0   Not in universe         Widowed   Not in universe or children   \n",
       "1   0   Not in universe        Divorced                  Construction   \n",
       "2   0       High school   Never married   Not in universe or children   \n",
       "\n",
       "                                     9   ...              32              33  \\\n",
       "0                       Not in universe  ...   United-States   United-States   \n",
       "1   Precision production craft & repair  ...   United-States   United-States   \n",
       "2                       Not in universe  ...         Vietnam         Vietnam   \n",
       "\n",
       "               34                                    35 36                37  \\\n",
       "0   United-States     Native- Born in the United States  0   Not in universe   \n",
       "1   United-States     Native- Born in the United States  0   Not in universe   \n",
       "2         Vietnam   Foreign born- Not a citizen of U S   0   Not in universe   \n",
       "\n",
       "   38  39  40         41  \n",
       "0   2   0  95   - 50000.  \n",
       "1   2  52  94   - 50000.  \n",
       "2   2   0  95   - 50000.  \n",
       "\n",
       "[3 rows x 42 columns]"
      ]
     },
     "execution_count": 36,
     "metadata": {},
     "output_type": "execute_result"
    }
   ],
   "source": [
    "#Peek into few data rows\n",
    "df.head(3)"
   ]
  },
  {
   "cell_type": "markdown",
   "metadata": {},
   "source": [
    "####  No headers present for the data read"
   ]
  },
  {
   "cell_type": "code",
   "execution_count": 37,
   "metadata": {},
   "outputs": [],
   "source": [
    "with open(headers_easy,'r') as fp:\n",
    "    columns_easy = fp.readline()[:-1].lower().split('\\t')"
   ]
  },
  {
   "cell_type": "code",
   "execution_count": 38,
   "metadata": {},
   "outputs": [],
   "source": [
    "#Set the simplified columns names for test and training dataset.\n",
    "df.columns = columns_easy\n",
    "df_test.columns = columns_easy"
   ]
  },
  {
   "cell_type": "markdown",
   "metadata": {},
   "source": [
    "### Step 2: Data Cleanup"
   ]
  },
  {
   "cell_type": "markdown",
   "metadata": {},
   "source": [
    "#### 2.1 Check Dimensions of data"
   ]
  },
  {
   "cell_type": "code",
   "execution_count": 39,
   "metadata": {},
   "outputs": [
    {
     "name": "stdout",
     "output_type": "stream",
     "text": [
      "(199523, 42)\n",
      "(99762, 42)\n"
     ]
    }
   ],
   "source": [
    "shape = df.shape\n",
    "print(shape)\n",
    "print(df_test.shape)"
   ]
  },
  {
   "cell_type": "markdown",
   "metadata": {},
   "source": [
    "#### 2.2 Check data type of each attribute"
   ]
  },
  {
   "cell_type": "markdown",
   "metadata": {},
   "source": [
    "<p> Most of the fields in the data set are strings and values which represent multiple categories of the field. </p>"
   ]
  },
  {
   "cell_type": "code",
   "execution_count": 40,
   "metadata": {},
   "outputs": [
    {
     "name": "stdout",
     "output_type": "stream",
     "text": [
      "<class 'pandas.core.frame.DataFrame'>\n",
      "RangeIndex: 199523 entries, 0 to 199522\n",
      "Data columns (total 42 columns):\n",
      " #   Column                  Non-Null Count   Dtype  \n",
      "---  ------                  --------------   -----  \n",
      " 0   age                     199523 non-null  int64  \n",
      " 1   workerclass             199523 non-null  object \n",
      " 2   industrycode            199523 non-null  int64  \n",
      " 3   occupationcode          199523 non-null  int64  \n",
      " 4   education               199523 non-null  object \n",
      " 5   wageperhour             199523 non-null  int64  \n",
      " 6   student                 199523 non-null  object \n",
      " 7   maritalstatus           199523 non-null  object \n",
      " 8   majorindustrycode       199523 non-null  object \n",
      " 9   majoroccode             199523 non-null  object \n",
      " 10  race                    199523 non-null  object \n",
      " 11  hispanicorigin          199523 non-null  object \n",
      " 12  sex                     199523 non-null  object \n",
      " 13  memberofl               199523 non-null  object \n",
      " 14  unemploymentreason      199523 non-null  object \n",
      " 15  employmentstat          199523 non-null  object \n",
      " 16  capttaingain            199523 non-null  int64  \n",
      " 17  capitalloss             199523 non-null  int64  \n",
      " 18  stockdivdend            199523 non-null  int64  \n",
      " 19  taxfilerstat            199523 non-null  object \n",
      " 20  previousresidence       199523 non-null  object \n",
      " 21  previousstate           199523 non-null  object \n",
      " 22  householdstat           199523 non-null  object \n",
      " 23  householdsummary        199523 non-null  object \n",
      " 24  instanceweight          199523 non-null  float64\n",
      " 25  migrationcodemsa        199523 non-null  object \n",
      " 26  migrationcodechangereg  199523 non-null  object \n",
      " 27  migrationcodemovereg    199523 non-null  object \n",
      " 28  samehouse               199523 non-null  object \n",
      " 29  migrationsunbelt        199523 non-null  object \n",
      " 30  numberofemployee        199523 non-null  int64  \n",
      " 31  familymemberunder18     199523 non-null  object \n",
      " 32  fatherbirthcountry      199523 non-null  object \n",
      " 33  motherbirthcountry      199523 non-null  object \n",
      " 34  countryofbirth          199523 non-null  object \n",
      " 35  citizenship             199523 non-null  object \n",
      " 36  employmenttype          199523 non-null  int64  \n",
      " 37  veteranadmin            199523 non-null  object \n",
      " 38  vetranbenifits          199523 non-null  int64  \n",
      " 39  weeksworked             199523 non-null  int64  \n",
      " 40  year                    199523 non-null  int64  \n",
      " 41  income                  199523 non-null  object \n",
      "dtypes: float64(1), int64(12), object(29)\n",
      "memory usage: 63.9+ MB\n"
     ]
    }
   ],
   "source": [
    "df.info()"
   ]
  },
  {
   "cell_type": "markdown",
   "metadata": {},
   "source": [
    "#### 2.3 Convert the label datatype to boolean."
   ]
  },
  {
   "cell_type": "markdown",
   "metadata": {},
   "source": [
    "<p>The 'income' field of the data set are \" 50000+\" or \"  50000-\" values. Convert  these values to boolean values of True or False, where <br>\n",
    "    \n",
    "<b>True:</b> Individual has income higher than 50000 <br>\n",
    "<b>False:</b> Individual has income less than 50000\n",
    "</p>\n"
   ]
  },
  {
   "cell_type": "code",
   "execution_count": 41,
   "metadata": {},
   "outputs": [],
   "source": [
    "def setlabels(df, label):\n",
    "    \"\"\"\n",
    "      This function converts the labels to boolean values\n",
    "      input  : dataframe, column name.\n",
    "      retutns: dataframe.\n",
    "    \"\"\"\n",
    "    df[label]= df.income.apply(lambda x :  True if x == \" 50000+.\" else False)\n",
    "    return df\n",
    "\n",
    "\n",
    "#Set labels for test and training data sets.\n",
    "df = setlabels(df,'income')\n",
    "df_test = setlabels(df_test,'income')"
   ]
  },
  {
   "cell_type": "markdown",
   "metadata": {},
   "source": [
    "#### 2.4 Convert the data types of required columns to categorical variables."
   ]
  },
  {
   "cell_type": "code",
   "execution_count": 42,
   "metadata": {},
   "outputs": [],
   "source": [
    "def convert_types(df):\n",
    "    \"\"\"\n",
    "     This function converts the string fields to categorical values. \n",
    "     There few fields which are of type integer,but still are categorical\n",
    "     varibales, there are no order in these integer values.\n",
    "     input: dataframe.\n",
    "     output: modified dataframe.\n",
    "    \"\"\"\n",
    "    obj_cols = df.select_dtypes(include='object').columns\n",
    "    for col in obj_cols:\n",
    "        df[col]=df[col].astype('category')\n",
    "    df['industrycode'] = df['industrycode'].astype('category')\n",
    "    df['occupationcode'] = df['occupationcode'].astype('category')\n",
    "    df['occupationcode'] = df['occupationcode'].astype('category')\n",
    "    df['instanceweight']=df.instanceweight.astype(int)\n",
    "    return df"
   ]
  },
  {
   "cell_type": "code",
   "execution_count": 43,
   "metadata": {},
   "outputs": [],
   "source": [
    "#Convert datatypes of the string columns to categorical columns.\n",
    "df = convert_types(df)\n",
    "df_test = convert_types(df_test)"
   ]
  },
  {
   "cell_type": "code",
   "execution_count": 44,
   "metadata": {},
   "outputs": [],
   "source": [
    "# Get the list of categorical  column names. This will be used in handling test and traing dataset\n",
    "cat_cols = df.select_dtypes(include='category').columns"
   ]
  },
  {
   "cell_type": "code",
   "execution_count": 45,
   "metadata": {},
   "outputs": [
    {
     "name": "stdout",
     "output_type": "stream",
     "text": [
      "<class 'pandas.core.frame.DataFrame'>\n",
      "RangeIndex: 199523 entries, 0 to 199522\n",
      "Data columns (total 42 columns):\n",
      " #   Column                  Non-Null Count   Dtype   \n",
      "---  ------                  --------------   -----   \n",
      " 0   age                     199523 non-null  int64   \n",
      " 1   workerclass             199523 non-null  category\n",
      " 2   industrycode            199523 non-null  category\n",
      " 3   occupationcode          199523 non-null  category\n",
      " 4   education               199523 non-null  category\n",
      " 5   wageperhour             199523 non-null  int64   \n",
      " 6   student                 199523 non-null  category\n",
      " 7   maritalstatus           199523 non-null  category\n",
      " 8   majorindustrycode       199523 non-null  category\n",
      " 9   majoroccode             199523 non-null  category\n",
      " 10  race                    199523 non-null  category\n",
      " 11  hispanicorigin          199523 non-null  category\n",
      " 12  sex                     199523 non-null  category\n",
      " 13  memberofl               199523 non-null  category\n",
      " 14  unemploymentreason      199523 non-null  category\n",
      " 15  employmentstat          199523 non-null  category\n",
      " 16  capttaingain            199523 non-null  int64   \n",
      " 17  capitalloss             199523 non-null  int64   \n",
      " 18  stockdivdend            199523 non-null  int64   \n",
      " 19  taxfilerstat            199523 non-null  category\n",
      " 20  previousresidence       199523 non-null  category\n",
      " 21  previousstate           199523 non-null  category\n",
      " 22  householdstat           199523 non-null  category\n",
      " 23  householdsummary        199523 non-null  category\n",
      " 24  instanceweight          199523 non-null  int64   \n",
      " 25  migrationcodemsa        199523 non-null  category\n",
      " 26  migrationcodechangereg  199523 non-null  category\n",
      " 27  migrationcodemovereg    199523 non-null  category\n",
      " 28  samehouse               199523 non-null  category\n",
      " 29  migrationsunbelt        199523 non-null  category\n",
      " 30  numberofemployee        199523 non-null  int64   \n",
      " 31  familymemberunder18     199523 non-null  category\n",
      " 32  fatherbirthcountry      199523 non-null  category\n",
      " 33  motherbirthcountry      199523 non-null  category\n",
      " 34  countryofbirth          199523 non-null  category\n",
      " 35  citizenship             199523 non-null  category\n",
      " 36  employmenttype          199523 non-null  int64   \n",
      " 37  veteranadmin            199523 non-null  category\n",
      " 38  vetranbenifits          199523 non-null  int64   \n",
      " 39  weeksworked             199523 non-null  int64   \n",
      " 40  year                    199523 non-null  int64   \n",
      " 41  income                  199523 non-null  bool    \n",
      "dtypes: bool(1), category(30), int64(11)\n",
      "memory usage: 22.7 MB\n"
     ]
    }
   ],
   "source": [
    "# List the columns of \n",
    "df.info()"
   ]
  },
  {
   "cell_type": "code",
   "execution_count": 46,
   "metadata": {},
   "outputs": [],
   "source": [
    "df.to_pickle('df.pkl')\n",
    "df_test.to_pickle('df_test.pkl')"
   ]
  }
 ],
 "metadata": {
  "kernelspec": {
   "display_name": "Python 3",
   "language": "python",
   "name": "python3"
  },
  "language_info": {
   "codemirror_mode": {
    "name": "ipython",
    "version": 3
   },
   "file_extension": ".py",
   "mimetype": "text/x-python",
   "name": "python",
   "nbconvert_exporter": "python",
   "pygments_lexer": "ipython3",
   "version": "3.7.6"
  }
 },
 "nbformat": 4,
 "nbformat_minor": 4
}
