{
 "cells": [
  {
   "cell_type": "markdown",
   "metadata": {},
   "source": [
    "##  The Problem Statement:"
   ]
  },
  {
   "cell_type": "markdown",
   "metadata": {},
   "source": [
    "\n",
    "Snap-Shot LLC.  is a startup which specializes in building mirrorless digital cameras.  The company is planning to introduce a new line of above full frame digital cameras. Based on historical statistics of digital camera sales, a person earning more than specific income is more likely to buy an expensive camera.  Company decides to launch a marketing camping to targeted to specific set of potential customers who earn more than $50000 annually."
   ]
  },
  {
   "cell_type": "markdown",
   "metadata": {},
   "source": [
    "### Solution:"
   ]
  },
  {
   "cell_type": "code",
   "execution_count": 68,
   "metadata": {},
   "outputs": [],
   "source": [
    "import pandas as pd\n",
    "import seaborn as sns\n",
    "import numpy as np\n",
    "import matplotlib.pyplot as plt\n",
    "from sklearn.metrics import plot_roc_curve\n",
    "from sklearn.ensemble import RandomForestClassifier\n",
    "from sklearn.model_selection import train_test_split\n",
    "from sklearn.model_selection import cross_validate\n",
    "from sklearn.metrics import roc_curve,roc_auc_score\n",
    "from sklearn.model_selection import RepeatedStratifiedKFold\n",
    "from sklearn.model_selection import cross_val_score\n",
    "import vtreat\n",
    "import vtreat.util\n",
    "from pprint import pprint\n",
    "from sklearn.metrics import r2_score\n",
    "from sklearn.metrics import f1_score, precision_score, recall_score,confusion_matrix\n",
    "from sklearn.metrics import roc_auc_score,auc\n",
    "from sklearn.metrics import plot_roc_curve\n",
    "from sklearn.tree import DecisionTreeClassifier\n",
    "from sklearn.ensemble import AdaBoostClassifier\n",
    "from sklearn.model_selection import GridSearchCV\n",
    "from sklearn.model_selection import RandomizedSearchCV\n",
    "from sklearn.ensemble import RandomForestRegressor\n",
    "from sklearn.preprocessing import LabelEncoder, OneHotEncoder\n",
    "from sklearn.neighbors import KNeighborsClassifier\n",
    "from sklearn.svm import SVC\n",
    "from sklearn.gaussian_process import GaussianProcessClassifier\n",
    "from sklearn.gaussian_process.kernels import RBF\n",
    "from sklearn.tree import DecisionTreeClassifier\n",
    "from sklearn.ensemble import RandomForestClassifier, AdaBoostClassifier,GradientBoostingClassifier\n",
    "from sklearn.naive_bayes import GaussianNB\n",
    "from sklearn.discriminant_analysis import QuadraticDiscriminantAnalysis\n",
    "from sklearn.neural_network import MLPClassifier"
   ]
  },
  {
   "cell_type": "code",
   "execution_count": 69,
   "metadata": {},
   "outputs": [],
   "source": [
    "df = pd.read_pickle('df.pkl')\n",
    "df_test = pd.read_pickle('df_test.pkl')"
   ]
  },
  {
   "cell_type": "code",
   "execution_count": 70,
   "metadata": {},
   "outputs": [
    {
     "name": "stdout",
     "output_type": "stream",
     "text": [
      "Imabanced data set 8.140643388274896 %\n"
     ]
    }
   ],
   "source": [
    "df_true = df[df.income == True]\n",
    "df_false = df[df.income == False]\n",
    "print (\"Imabanced data set\",(len(df_true)/ len(df))  * 100, \"%\" )"
   ]
  },
  {
   "cell_type": "code",
   "execution_count": 71,
   "metadata": {},
   "outputs": [
    {
     "data": {
      "text/plain": [
       "<matplotlib.axes._subplots.AxesSubplot at 0x1a2cfbac10>"
      ]
     },
     "execution_count": 71,
     "metadata": {},
     "output_type": "execute_result"
    },
    {
     "data": {
      "image/png": "[encoded data removed]",
      "text/plain": [
       "<Figure size 432x288 with 1 Axes>"
      ]
     },
     "metadata": {},
     "output_type": "display_data"
    }
   ],
   "source": [
    "sns.countplot(x='income', data=df)"
   ]
  },
  {
   "cell_type": "markdown",
   "metadata": {},
   "source": [
    "#### 3.2 : Define the metric used to evaluate model performance."
   ]
  },
  {
   "cell_type": "code",
   "execution_count": 72,
   "metadata": {},
   "outputs": [],
   "source": [
    "def evaluate_metrics(y_predict, y_test):\n",
    "    \"\"\"\n",
    "    This function computes various model evaluation metrics for given data set.\n",
    "    input: Arrays of true and predicted values.\n",
    "    output: results of various metrics.\n",
    "    \n",
    "    \"\"\"\n",
    "    \n",
    "    result = {}\n",
    "    f1 = f1_score(y_test, y_predict)\n",
    "    p = precision_score(y_test,y_predict)\n",
    "    r = recall_score(y_test,y_predict)\n",
    "    a = roc_auc_score(y_test,y_predict)\n",
    "    c = confusion_matrix(y_test,y_predict)\n",
    "\n",
    "    print (\"F1 Score         : \", f1)\n",
    "    print (\"Precission Score : \", p)\n",
    "    print (\"Recall Score     : \", r)\n",
    "    print (\"roc_auc_score    : \",a )\n",
    "    print (\"Confusion Matrix : \",c)\n",
    "    \n",
    "    result['f1'] = f1\n",
    "    result['p'] = p\n",
    "    result['r'] = r\n",
    "    result['a'] = a\n",
    "    result['c'] = c\n",
    "    \n",
    "    return result"
   ]
  },
  {
   "cell_type": "markdown",
   "metadata": {},
   "source": [
    "#### 3.3 Oversampling of minority class"
   ]
  },
  {
   "cell_type": "code",
   "execution_count": 73,
   "metadata": {},
   "outputs": [],
   "source": [
    "from sklearn.utils import resample\n",
    "def overample_minority(df, alpha):\n",
    "    \"\"\"\n",
    "        This function oversamples the minority class to balance both the classes in the dataset.\n",
    "        input: a dataframewith imbalanced classed.\n",
    "        output: modified dataframe with balanced classes.\n",
    "    \"\"\"\n",
    "    \n",
    "# separate minority and majority classes\n",
    "    above = df[df.income == True ]\n",
    "    below = df[df.income == False]\n",
    "    \n",
    "    # upsample minority\n",
    "    above_upsampled = resample(above,\n",
    "                        replace=True, # sample with replacement\n",
    "                        n_samples=int(len(below)/alpha), # match number in majority class\n",
    "                        random_state=42) # reproducible results\n",
    "\n",
    "    # combine majority and upsampled minority\n",
    "    upsampled = pd.concat([above_upsampled, below])\n",
    "    \n",
    "    # check new class counts\n",
    "    print(upsampled.income.value_counts())\n",
    "  \n",
    "    return upsampled"
   ]
  },
  {
   "cell_type": "code",
   "execution_count": 74,
   "metadata": {},
   "outputs": [
    {
     "name": "stdout",
     "output_type": "stream",
     "text": [
      "Imabanced data set 8.140643388274896 %\n",
      "False    139719\n",
      "True      34929\n",
      "Name: income, dtype: int64\n",
      "Imabanced data set 19.999656451834547 %\n"
     ]
    }
   ],
   "source": [
    "df_true = df[df.income == True]\n",
    "df_false = df[df.income == False]\n",
    "print (\"Imabanced data set\",(len(df_true)/ len(df))  * 100, \"%\" )\n",
    "\n",
    "x=overample_minority(df,4)\n",
    "x_true = x[x.income == True]\n",
    "x_false = x[x.income == False]\n",
    "print (\"Imabanced data set\",(len(x_true)/ len(x))  * 100, \"%\" )"
   ]
  },
  {
   "cell_type": "code",
   "execution_count": 75,
   "metadata": {},
   "outputs": [],
   "source": [
    "df.to_pickle('df.pkl')\n",
    "df_test.to_pickle('df_test.pkl')"
   ]
  },
  {
   "cell_type": "code",
   "execution_count": 76,
   "metadata": {},
   "outputs": [],
   "source": [
    "df = pd.read_pickle('df.pkl')\n",
    "df_test = pd.read_pickle('df_test.pkl')"
   ]
  },
  {
   "cell_type": "markdown",
   "metadata": {},
   "source": [
    "### 5. Create Test,Train and Validation dataset"
   ]
  },
  {
   "cell_type": "markdown",
   "metadata": {},
   "source": [
    "#### 5.1  One hot encoding"
   ]
  },
  {
   "cell_type": "markdown",
   "metadata": {},
   "source": [
    "Since most of the fields in the dataset are categorical variables, sklearn does not handle categorical variables. One-hot encoders convert categorical variables into integers"
   ]
  },
  {
   "cell_type": "code",
   "execution_count": 77,
   "metadata": {},
   "outputs": [],
   "source": [
    "def dummy_encode (df,df_test):\n",
    "    \"\"\"\n",
    "    This function concats train and test dataset.  Converts the combined dataset for one hot encoding.\n",
    "    The function returns the split train and test dataset.\n",
    "    input parameters: trainset , testset.\n",
    "    output parameters: one hot encoded train and test sets\n",
    "    \"\"\"\n",
    "    df['Type'] = True\n",
    "    df_test['Type'] = False\n",
    "    combined_df = pd.concat([df,df_test])\n",
    "    combinded_X = combined_df.loc[:, df.columns != 'income']\n",
    "    combined_y = combined_df.income\n",
    "    combined_df = pd.get_dummies(combinded_X, prefix_sep='__', columns=cat_cols)\n",
    "    combined_df['income'] = combined_y\n",
    "    df_new = combined_df[combined_df.Type == True]\n",
    "    df_test_new = combined_df[combined_df.Type == False]\n",
    "    df_new = df_new.drop(columns=['Type'])\n",
    "    df_test_new = df_test_new.drop(columns=['Type'])\n",
    "    df = df.drop(columns=['Type'])\n",
    "    df_test.drop(columns=['Type'])\n",
    "    return df_new, df_test_new"
   ]
  },
  {
   "cell_type": "code",
   "execution_count": 78,
   "metadata": {},
   "outputs": [],
   "source": [
    "cat_cols = df.select_dtypes(include='category').columns\n",
    "df_en, df_test_en = dummy_encode (df,df_test)"
   ]
  },
  {
   "cell_type": "markdown",
   "metadata": {},
   "source": [
    "#### New dimensions of the data are"
   ]
  },
  {
   "cell_type": "code",
   "execution_count": 79,
   "metadata": {},
   "outputs": [
    {
     "name": "stdout",
     "output_type": "stream",
     "text": [
      "(152101, 503)\n",
      "(76320, 503)\n"
     ]
    }
   ],
   "source": [
    "print(df_en.shape)\n",
    "print(df_test_en.shape)"
   ]
  },
  {
   "cell_type": "code",
   "execution_count": 80,
   "metadata": {},
   "outputs": [],
   "source": [
    "df_en_y = df_en['income']\n",
    "df_en_X = df_en.drop(columns=['income'])"
   ]
  },
  {
   "cell_type": "code",
   "execution_count": 81,
   "metadata": {},
   "outputs": [],
   "source": [
    "df_test_en_y = df_test_en['income']\n",
    "df_test_en_X = df_test_en.drop(columns=['income'])"
   ]
  },
  {
   "cell_type": "code",
   "execution_count": 82,
   "metadata": {},
   "outputs": [
    {
     "name": "stdout",
     "output_type": "stream",
     "text": [
      "(76320, 502)\n",
      "(76320,)\n"
     ]
    }
   ],
   "source": [
    "print(df_test_en_X.shape)\n",
    "print(df_test_en_y.shape)"
   ]
  },
  {
   "cell_type": "markdown",
   "metadata": {},
   "source": [
    "#### 5.2 Create a test and train data set from the df_en"
   ]
  },
  {
   "cell_type": "code",
   "execution_count": 83,
   "metadata": {},
   "outputs": [],
   "source": [
    "X_en_train, X_en_test, y_en_train,y_en_test = train_test_split(df_en_X,df_en_y, random_state = 42, test_size =0.3)"
   ]
  },
  {
   "cell_type": "markdown",
   "metadata": {},
   "source": [
    "####  5.3 Create default classifier "
   ]
  },
  {
   "cell_type": "code",
   "execution_count": 84,
   "metadata": {},
   "outputs": [],
   "source": [
    "names = ['RandomForestClassifier','AdaBoostClassifier','GaussianNB','GradientBoostingClassifier']\n",
    "classifiers = [\n",
    "    RandomForestClassifier(),\n",
    "    AdaBoostClassifier(),\n",
    "    GaussianNB(),\n",
    "    GradientBoostingClassifier()\n",
    "   ]"
   ]
  },
  {
   "cell_type": "code",
   "execution_count": 85,
   "metadata": {},
   "outputs": [],
   "source": [
    "def find_classifier(names, classifiers,X_en_train,y_en_train,X_en_test,y_en_test,df_test_en_X,df_test_en_y):\n",
    "    validation_metric = {}\n",
    "    test_metric = {}\n",
    "    print(names)\n",
    "    for name, clf in zip(names, classifiers):\n",
    "        print(name)\n",
    "        clf.fit(X_en_train,y_en_train)\n",
    "        y_en_predict = clf.predict(X_en_test)\n",
    "        print(\"Validation Metrics :\")\n",
    "        validation_metric[name] = evaluate_metrics(y_en_test, y_en_predict)\n",
    "        \n",
    "        print(\"Test Metrics  :\")\n",
    "        y_df_predict = clf.predict(df_test_en_X)\n",
    "        test_metric[name] = evaluate_metrics(df_test_en_y,y_df_predict)\n",
    "      \n",
    "    return validation_metric, test_metric"
   ]
  },
  {
   "cell_type": "code",
   "execution_count": 86,
   "metadata": {},
   "outputs": [
    {
     "name": "stdout",
     "output_type": "stream",
     "text": [
      "['RandomForestClassifier', 'AdaBoostClassifier', 'GaussianNB', 'GradientBoostingClassifier']\n",
      "RandomForestClassifier\n",
      "Validation Metrics :\n",
      "F1 Score         :  0.4244912531238843\n",
      "Precission Score :  0.31851058130190196\n",
      "Recall Score     :  0.6361690743713215\n",
      "roc_auc_score    :  0.7890182239458636\n",
      "Confusion Matrix :  [[41218  2544]\n",
      " [  680  1189]]\n",
      "Test Metrics  :\n",
      "F1 Score         :  0.42487271151554545\n",
      "Precission Score :  0.3170061429033301\n",
      "Recall Score     :  0.6440065681444992\n",
      "roc_auc_score    :  0.7931735331340032\n",
      "Confusion Matrix :  [[69050  4225]\n",
      " [ 1084  1961]]\n",
      "AdaBoostClassifier\n",
      "Validation Metrics :\n",
      "F1 Score         :  0.44396474186004675\n",
      "Precission Score :  0.330565229038307\n",
      "Recall Score     :  0.6757940854326396\n",
      "roc_auc_score    :  0.8093729016365344\n",
      "Confusion Matrix :  [[41306  2499]\n",
      " [  592  1234]]\n",
      "Test Metrics  :\n",
      "F1 Score         :  0.44477965736450814\n",
      "Precission Score :  0.33365664403491757\n",
      "Recall Score     :  0.6668820678513732\n",
      "roc_auc_score    :  0.8052949089683632\n",
      "Confusion Matrix :  [[69103  4122]\n",
      " [ 1031  2064]]\n",
      "GaussianNB\n",
      "Validation Metrics :\n",
      "F1 Score         :  0.260377504747878\n",
      "Precission Score :  0.8998124832574337\n",
      "Recall Score     :  0.15221134674642015\n",
      "roc_auc_score    :  0.5681695022574778\n",
      "Confusion Matrix :  [[23189   374]\n",
      " [18709  3359]]\n",
      "Test Metrics  :\n",
      "F1 Score         :  0.2597959278758794\n",
      "Precission Score :  0.9013902360168121\n",
      "Recall Score     :  0.1517691888949374\n",
      "roc_auc_score    :  0.5681786823706622\n",
      "Confusion Matrix :  [[38970   610]\n",
      " [31164  5576]]\n",
      "GradientBoostingClassifier\n",
      "Validation Metrics :\n",
      "F1 Score         :  0.45164815152067017\n",
      "Precission Score :  0.332172515403161\n",
      "Recall Score     :  0.7053469852104665\n",
      "roc_auc_score    :  0.8242619410815172\n",
      "Confusion Matrix :  [[41380  2493]\n",
      " [  518  1240]]\n",
      "Test Metrics  :\n",
      "F1 Score         :  0.44975233902036327\n",
      "Precission Score :  0.33026188166828324\n",
      "Recall Score     :  0.7047257675060365\n",
      "roc_auc_score    :  0.8241488850333059\n",
      "Confusion Matrix :  [[69278  4143]\n",
      " [  856  2043]]\n"
     ]
    }
   ],
   "source": [
    "x,y = find_classifier(names,classifiers,X_en_train,y_en_train,X_en_test,y_en_test,df_test_en_X,df_test_en_y)"
   ]
  },
  {
   "cell_type": "code",
   "execution_count": 87,
   "metadata": {},
   "outputs": [
    {
     "data": {
      "text/plain": [
       "GradientBoostingClassifier(ccp_alpha=0.0, criterion='friedman_mse', init=None,\n",
       "                           learning_rate=0.1, loss='deviance', max_depth=3,\n",
       "                           max_features=None, max_leaf_nodes=None,\n",
       "                           min_impurity_decrease=0.0, min_impurity_split=None,\n",
       "                           min_samples_leaf=1, min_samples_split=2,\n",
       "                           min_weight_fraction_leaf=0.0, n_estimators=100,\n",
       "                           n_iter_no_change=None, presort='deprecated',\n",
       "                           random_state=None, subsample=1.0, tol=0.0001,\n",
       "                           validation_fraction=0.1, verbose=0,\n",
       "                           warm_start=False)"
      ]
     },
     "execution_count": 87,
     "metadata": {},
     "output_type": "execute_result"
    }
   ],
   "source": [
    "classifiers[3]"
   ]
  },
  {
   "cell_type": "code",
   "execution_count": 88,
   "metadata": {},
   "outputs": [
    {
     "name": "stdout",
     "output_type": "stream",
     "text": [
      "weeksworked\n",
      "age\n",
      "majoroccode__ Executive admin and managerial\n",
      "majoroccode__ Professional specialty\n",
      "sex__ Male\n",
      "sex__ Female\n",
      "education__ Masters degree(MA MS MEng MEd MSW MBA)\n",
      "education__ Prof school degree (MD DDS DVM LLB JD)\n",
      "education__ Bachelors degree(BA AB BS)\n",
      "education__ Doctorate degree(PhD EdD)\n"
     ]
    }
   ],
   "source": [
    "importance = classifiers[3].feature_importances_\n",
    "indices = importance.argsort()[::-1][:10]\n",
    "features = X_en_train.columns\n",
    "top_features = []\n",
    "for i in indices[:20]:\n",
    "    print(features[i])"
   ]
  },
  {
   "cell_type": "code",
   "execution_count": 89,
   "metadata": {},
   "outputs": [
    {
     "data": {
      "image/png": "[encoded data removed]",
      "text/plain": [
       "<Figure size 1800x1080 with 4 Axes>"
      ]
     },
     "metadata": {},
     "output_type": "display_data"
    }
   ],
   "source": [
    "a4_dims = (25, 15)\n",
    "fig, ax = plt.subplots(2,2,figsize=a4_dims)\n",
    "aux = [[0,0],[0,1],[1,0],[1,1]]\n",
    "lw=2\n",
    "for i in range(0,len(classifiers)):\n",
    "    y_predict = classifiers[i].predict(df_test_en_X)\n",
    "    fpr,tpr,_ = roc_curve(df_test_en_y,y_predict)\n",
    "    roc_auc = auc(fpr, tpr)\n",
    "    x = aux[i][0]\n",
    "    y = aux[i][1]\n",
    "    ax[x,y].plot(fpr, tpr, color='darkorange',\n",
    "         lw=lw, label='ROC curve (area = %0.2f)' % roc_auc)\n",
    "    ax[x,y].set(xlabel='False Positive Rate',ylabel=\"True Positive Rate\")\n",
    "    ax[x,y].set_title(names[i] + \" ROC Curve\" +  str(roc_auc))\n",
    "  "
   ]
  },
  {
   "cell_type": "markdown",
   "metadata": {},
   "source": [
    "### 6. Tunning the default model"
   ]
  },
  {
   "cell_type": "markdown",
   "metadata": {},
   "source": [
    "The default model can be furtuer tuned to increase the performance."
   ]
  },
  {
   "cell_type": "markdown",
   "metadata": {},
   "source": [
    "#### 6.1 Oversampling the minority class"
   ]
  },
  {
   "cell_type": "code",
   "execution_count": 90,
   "metadata": {},
   "outputs": [
    {
     "name": "stdout",
     "output_type": "stream",
     "text": [
      "False    139719\n",
      "True      17464\n",
      "Name: income, dtype: int64\n"
     ]
    }
   ],
   "source": [
    "#Over Sample Minority class\n",
    "ov_df = overample_minority(df,8)"
   ]
  },
  {
   "cell_type": "code",
   "execution_count": 91,
   "metadata": {},
   "outputs": [
    {
     "name": "stdout",
     "output_type": "stream",
     "text": [
      "Imabanced data set 11.11061628802097 %\n"
     ]
    }
   ],
   "source": [
    "ov_df_true = ov_df[ov_df.income == True]\n",
    "ov_df_false = ov_df[ov_df.income == False]\n",
    "print (\"Imabanced data set\",(len(ov_df_true)/ len(ov_df))  * 100, \"%\" )"
   ]
  },
  {
   "cell_type": "markdown",
   "metadata": {},
   "source": [
    "#### 6.2  One hot encoding for the reshuffled data."
   ]
  },
  {
   "cell_type": "code",
   "execution_count": 92,
   "metadata": {},
   "outputs": [],
   "source": [
    "ov_df_en, ov_df_test_en = dummy_encode (ov_df,df_test)"
   ]
  },
  {
   "cell_type": "code",
   "execution_count": 93,
   "metadata": {},
   "outputs": [],
   "source": [
    "ov_df_test_en_y = ov_df_test_en['income']\n",
    "ov_df_test_en_X = ov_df_test_en.drop(columns=['income'])\n",
    "ov_df_en_y = ov_df_en['income']\n",
    "ov_df_en_X = ov_df_en.drop(columns=['income'])"
   ]
  },
  {
   "cell_type": "markdown",
   "metadata": {},
   "source": [
    "#### 6.3 Hyper Parameter tuning using GridSearchCV"
   ]
  },
  {
   "cell_type": "code",
   "execution_count": 94,
   "metadata": {},
   "outputs": [],
   "source": [
    "# Create the parameter grid based on the results of random search \n",
    "param_grid = {\n",
    "    'max_features': [2, 3,4],\n",
    "    'min_samples_leaf': [1, 2,3,4],\n",
    "    'min_samples_split': [1,2,3,5],\n",
    "    'n_estimators': [50,100,150,300,1000 ]\n",
    "}\n",
    "\n",
    "# Create a based model\n",
    "rf = GradientBoostingClassifier()\n",
    "#Scoring\n",
    "scorings = {'AUC': 'roc_auc', 'F1': 'f1'}\n",
    "\n",
    "\n",
    "# Instantiate the grid search model\n",
    "grid_search = GridSearchCV(estimator = rf, param_grid = param_grid, cv = 3, n_jobs = -1, \n",
    "                               verbose = 2, scoring=scorings, refit='AUC', return_train_score=True)"
   ]
  },
  {
   "cell_type": "code",
   "execution_count": 95,
   "metadata": {},
   "outputs": [],
   "source": [
    "ov_X_en_train, ov_X_en_test, ov_y_en_train,ov_y_en_test = \\\n",
    "                train_test_split(ov_df_en_X,ov_df_en_y, random_state = 42, test_size =0.3, stratify=ov_df_en_y)"
   ]
  },
  {
   "cell_type": "code",
   "execution_count": 96,
   "metadata": {},
   "outputs": [
    {
     "name": "stdout",
     "output_type": "stream",
     "text": [
      "Fitting 3 folds for each of 240 candidates, totalling 720 fits\n"
     ]
    },
    {
     "name": "stderr",
     "output_type": "stream",
     "text": [
      "[Parallel(n_jobs=-1)]: Using backend LokyBackend with 4 concurrent workers.\n",
      "[Parallel(n_jobs=-1)]: Done  33 tasks      | elapsed:  1.4min\n",
      "[Parallel(n_jobs=-1)]: Done 154 tasks      | elapsed: 10.7min\n",
      "[Parallel(n_jobs=-1)]: Done 357 tasks      | elapsed: 88.0min\n",
      "[Parallel(n_jobs=-1)]: Done 640 tasks      | elapsed: 186.6min\n",
      "[Parallel(n_jobs=-1)]: Done 720 out of 720 | elapsed: 226.9min finished\n"
     ]
    },
    {
     "data": {
      "text/plain": [
       "GridSearchCV(cv=3, error_score=nan,\n",
       "             estimator=GradientBoostingClassifier(ccp_alpha=0.0,\n",
       "                                                  criterion='friedman_mse',\n",
       "                                                  init=None, learning_rate=0.1,\n",
       "                                                  loss='deviance', max_depth=3,\n",
       "                                                  max_features=None,\n",
       "                                                  max_leaf_nodes=None,\n",
       "                                                  min_impurity_decrease=0.0,\n",
       "                                                  min_impurity_split=None,\n",
       "                                                  min_samples_leaf=1,\n",
       "                                                  min_samples_split=2,\n",
       "                                                  min_weight_fraction_leaf=0.0,\n",
       "                                                  n_estimators=100,\n",
       "                                                  n_iter_no_c...\n",
       "                                                  random_state=None,\n",
       "                                                  subsample=1.0, tol=0.0001,\n",
       "                                                  validation_fraction=0.1,\n",
       "                                                  verbose=0, warm_start=False),\n",
       "             iid='deprecated', n_jobs=-1,\n",
       "             param_grid={'max_features': [2, 3, 4],\n",
       "                         'min_samples_leaf': [1, 2, 3, 4],\n",
       "                         'min_samples_split': [1, 2, 3, 5],\n",
       "                         'n_estimators': [50, 100, 150, 300, 1000]},\n",
       "             pre_dispatch='2*n_jobs', refit='AUC', return_train_score=True,\n",
       "             scoring={'AUC': 'roc_auc', 'F1': 'f1'}, verbose=2)"
      ]
     },
     "execution_count": 96,
     "metadata": {},
     "output_type": "execute_result"
    }
   ],
   "source": [
    "grid_search.fit(ov_X_en_train, ov_y_en_train)"
   ]
  },
  {
   "cell_type": "code",
   "execution_count": 97,
   "metadata": {},
   "outputs": [
    {
     "name": "stdout",
     "output_type": "stream",
     "text": [
      "{'max_features': 4, 'min_samples_leaf': 1, 'min_samples_split': 2, 'n_estimators': 1000}\n"
     ]
    }
   ],
   "source": [
    "best = grid_search.best_params_\n",
    "results = grid_search.cv_results_\n",
    "print(best)"
   ]
  },
  {
   "cell_type": "code",
   "execution_count": 98,
   "metadata": {},
   "outputs": [],
   "source": [
    "clf = GradientBoostingClassifier(\n",
    "                             max_features=best['max_features'], min_samples_leaf=best['min_samples_leaf'],\n",
    "                            min_samples_split=best['min_samples_split'], n_estimators=best['n_estimators'])"
   ]
  },
  {
   "cell_type": "code",
   "execution_count": 99,
   "metadata": {},
   "outputs": [
    {
     "data": {
      "text/plain": [
       "GradientBoostingClassifier(ccp_alpha=0.0, criterion='friedman_mse', init=None,\n",
       "                           learning_rate=0.1, loss='deviance', max_depth=3,\n",
       "                           max_features=4, max_leaf_nodes=None,\n",
       "                           min_impurity_decrease=0.0, min_impurity_split=None,\n",
       "                           min_samples_leaf=1, min_samples_split=2,\n",
       "                           min_weight_fraction_leaf=0.0, n_estimators=1000,\n",
       "                           n_iter_no_change=None, presort='deprecated',\n",
       "                           random_state=None, subsample=1.0, tol=0.0001,\n",
       "                           validation_fraction=0.1, verbose=0,\n",
       "                           warm_start=False)"
      ]
     },
     "execution_count": 99,
     "metadata": {},
     "output_type": "execute_result"
    }
   ],
   "source": [
    "clf.fit(ov_X_en_train, ov_y_en_train)"
   ]
  },
  {
   "cell_type": "code",
   "execution_count": 100,
   "metadata": {},
   "outputs": [
    {
     "name": "stdout",
     "output_type": "stream",
     "text": [
      "occupationcode__2\n",
      "education__ Masters degree(MA MS MEng MEd MSW MBA)\n",
      "weeksworked\n",
      "sex__ Male\n",
      "education__ Bachelors degree(BA AB BS)\n",
      "education__ Doctorate degree(PhD EdD)\n",
      "education__ Prof school degree (MD DDS DVM LLB JD)\n",
      "age\n",
      "workerclass__ Self-employed-incorporated\n",
      "householdstat__ Householder\n"
     ]
    }
   ],
   "source": [
    "importance = clf.feature_importances_\n",
    "indices = importance.argsort()[::-1][:10]\n",
    "features = ov_X_en_train.columns\n",
    "top_features = []\n",
    "for i in indices[:20]:\n",
    "    print(features[i])"
   ]
  },
  {
   "cell_type": "code",
   "execution_count": 101,
   "metadata": {},
   "outputs": [
    {
     "name": "stdout",
     "output_type": "stream",
     "text": [
      "F1 Score         :  0.5444057204662901\n",
      "Precission Score :  0.43233441496468794\n",
      "Recall Score     :  0.7349123945489942\n",
      "roc_auc_score    :  0.8337167195897468\n",
      "Confusion Matrix :  [[41099  2974]\n",
      " [  817  2265]]\n",
      "0.5444057204662901\n"
     ]
    }
   ],
   "source": [
    "x = clf.predict(ov_X_en_test)\n",
    "evaluate_metrics( ov_y_en_test,x)\n",
    "f1 = f1_score(x, ov_y_en_test)\n",
    "print(f1)"
   ]
  },
  {
   "cell_type": "code",
   "execution_count": 102,
   "metadata": {},
   "outputs": [
    {
     "name": "stdout",
     "output_type": "stream",
     "text": [
      "F1 Score         :  0.5007927070947285\n",
      "Precission Score :  0.40850307145166503\n",
      "Recall Score     :  0.6469534050179212\n",
      "roc_auc_score    :  0.7982122508835843\n",
      "Confusion Matrix :  [[68755  3659]\n",
      " [ 1379  2527]]\n"
     ]
    },
    {
     "data": {
      "text/plain": [
       "{'f1': 0.5007927070947285,\n",
       " 'p': 0.40850307145166503,\n",
       " 'r': 0.6469534050179212,\n",
       " 'a': 0.7982122508835843,\n",
       " 'c': array([[68755,  3659],\n",
       "        [ 1379,  2527]])}"
      ]
     },
     "execution_count": 102,
     "metadata": {},
     "output_type": "execute_result"
    }
   ],
   "source": [
    "ov_y_en_predict_df_test = clf.predict(ov_df_test_en_X)\n",
    "evaluate_metrics(ov_df_test_en_y, ov_y_en_predict_df_test)"
   ]
  },
  {
   "cell_type": "code",
   "execution_count": 103,
   "metadata": {},
   "outputs": [
    {
     "data": {
      "text/plain": [
       "<sklearn.metrics._plot.roc_curve.RocCurveDisplay at 0x1a1dbceb10>"
      ]
     },
     "execution_count": 103,
     "metadata": {},
     "output_type": "execute_result"
    },
    {
     "data": {
      "image/png": "[encoded data removed]",
      "text/plain": [
       "<Figure size 432x288 with 1 Axes>"
      ]
     },
     "metadata": {},
     "output_type": "display_data"
    }
   ],
   "source": [
    "plot_roc_curve(clf,ov_df_test_en_X,ov_df_test_en_y)"
   ]
  },
  {
   "cell_type": "markdown",
   "metadata": {},
   "source": [
    "### Conclusion\n"
   ]
  },
  {
   "cell_type": "markdown",
   "metadata": {},
   "source": [
    "From the raw data only 6% percent of individuals have income greater than $50k. When faced with imbalanced data sets there is no one stop solution to improve the accuracy of the prediction model.  One may need to try out multiple methods to figure out the best-suited sampling techniques for the dataset. The model will help marketing deparment target potential customers with Higher precission and recall.\n",
    "\n",
    "\n"
   ]
  }
 ],
 "metadata": {
  "kernelspec": {
   "display_name": "Python 3",
   "language": "python",
   "name": "python3"
  },
  "language_info": {
   "codemirror_mode": {
    "name": "ipython",
    "version": 3
   },
   "file_extension": ".py",
   "mimetype": "text/x-python",
   "name": "python",
   "nbconvert_exporter": "python",
   "pygments_lexer": "ipython3",
   "version": "3.7.6"
  }
 },
 "nbformat": 4,
 "nbformat_minor": 4
}
